{
 "cells": [
  {
   "cell_type": "code",
   "execution_count": 1,
   "metadata": {},
   "outputs": [],
   "source": [
    "import numpy as np\n",
    "import pandas as pd\n",
    "import matplotlib.pyplot as plt\n",
    "%matplotlib inline\n",
    "import seaborn as sns\n",
    "import math"
   ]
  },
  {
   "cell_type": "code",
   "execution_count": 2,
   "metadata": {},
   "outputs": [],
   "source": [
    "data = pd.read_csv('data/email-campaign-management-for-sme/Train_psolI3n.csv')"
   ]
  },
  {
   "cell_type": "code",
   "execution_count": 3,
   "metadata": {},
   "outputs": [],
   "source": [
    "data_c = data.copy()\n",
    "\n",
    "data_c['Total_Past_Communications'].fillna(np.around((data_c['Total_Past_Communications'].mean()), decimals=0), inplace=True)"
   ]
  },
  {
   "cell_type": "code",
   "execution_count": 4,
   "metadata": {},
   "outputs": [],
   "source": [
    "data_c['Customer_Location'].fillna(data_c['Customer_Location'].mode()[0], inplace=True)"
   ]
  },
  {
   "cell_type": "code",
   "execution_count": 5,
   "metadata": {},
   "outputs": [],
   "source": [
    "data_c['Total_Images'].fillna(data_c['Total_Images'].mode()[0], inplace=True)"
   ]
  },
  {
   "cell_type": "code",
   "execution_count": 6,
   "metadata": {},
   "outputs": [],
   "source": [
    "data_c['Total_Links'].fillna(np.ceil((data_c['Total_Links'].mean())), inplace=True)"
   ]
  },
  {
   "cell_type": "code",
   "execution_count": 7,
   "metadata": {},
   "outputs": [
    {
     "data": {
      "text/plain": [
       "Email_ID                     0\n",
       "Email_Type                   0\n",
       "Subject_Hotness_Score        0\n",
       "Email_Source_Type            0\n",
       "Customer_Location            0\n",
       "Email_Campaign_Type          0\n",
       "Total_Past_Communications    0\n",
       "Time_Email_sent_Category     0\n",
       "Word_Count                   0\n",
       "Total_Links                  0\n",
       "Total_Images                 0\n",
       "Email_Status                 0\n",
       "dtype: int64"
      ]
     },
     "execution_count": 7,
     "metadata": {},
     "output_type": "execute_result"
    }
   ],
   "source": [
    "data_c.isnull().sum()"
   ]
  },
  {
   "cell_type": "code",
   "execution_count": 8,
   "metadata": {},
   "outputs": [
    {
     "data": {
      "text/html": [
       "<div>\n",
       "<style scoped>\n",
       "    .dataframe tbody tr th:only-of-type {\n",
       "        vertical-align: middle;\n",
       "    }\n",
       "\n",
       "    .dataframe tbody tr th {\n",
       "        vertical-align: top;\n",
       "    }\n",
       "\n",
       "    .dataframe thead th {\n",
       "        text-align: right;\n",
       "    }\n",
       "</style>\n",
       "<table border=\"1\" class=\"dataframe\">\n",
       "  <thead>\n",
       "    <tr style=\"text-align: right;\">\n",
       "      <th></th>\n",
       "      <th>Email_ID</th>\n",
       "      <th>Email_Type</th>\n",
       "      <th>Subject_Hotness_Score</th>\n",
       "      <th>Email_Source_Type</th>\n",
       "      <th>Customer_Location</th>\n",
       "      <th>Email_Campaign_Type</th>\n",
       "      <th>Total_Past_Communications</th>\n",
       "      <th>Time_Email_sent_Category</th>\n",
       "      <th>Word_Count</th>\n",
       "      <th>Total_Links</th>\n",
       "      <th>Total_Images</th>\n",
       "      <th>Email_Status</th>\n",
       "    </tr>\n",
       "  </thead>\n",
       "  <tbody>\n",
       "    <tr>\n",
       "      <th>0</th>\n",
       "      <td>EMA00081000034500</td>\n",
       "      <td>1</td>\n",
       "      <td>2.2</td>\n",
       "      <td>2</td>\n",
       "      <td>E</td>\n",
       "      <td>2</td>\n",
       "      <td>33.0</td>\n",
       "      <td>1</td>\n",
       "      <td>440</td>\n",
       "      <td>8.0</td>\n",
       "      <td>0.0</td>\n",
       "      <td>0</td>\n",
       "    </tr>\n",
       "    <tr>\n",
       "      <th>1</th>\n",
       "      <td>EMA00081000045360</td>\n",
       "      <td>2</td>\n",
       "      <td>2.1</td>\n",
       "      <td>1</td>\n",
       "      <td>G</td>\n",
       "      <td>2</td>\n",
       "      <td>15.0</td>\n",
       "      <td>2</td>\n",
       "      <td>504</td>\n",
       "      <td>5.0</td>\n",
       "      <td>0.0</td>\n",
       "      <td>0</td>\n",
       "    </tr>\n",
       "    <tr>\n",
       "      <th>2</th>\n",
       "      <td>EMA00081000066290</td>\n",
       "      <td>2</td>\n",
       "      <td>0.1</td>\n",
       "      <td>1</td>\n",
       "      <td>B</td>\n",
       "      <td>3</td>\n",
       "      <td>36.0</td>\n",
       "      <td>2</td>\n",
       "      <td>962</td>\n",
       "      <td>5.0</td>\n",
       "      <td>0.0</td>\n",
       "      <td>1</td>\n",
       "    </tr>\n",
       "    <tr>\n",
       "      <th>3</th>\n",
       "      <td>EMA00081000076560</td>\n",
       "      <td>1</td>\n",
       "      <td>3.0</td>\n",
       "      <td>2</td>\n",
       "      <td>E</td>\n",
       "      <td>2</td>\n",
       "      <td>25.0</td>\n",
       "      <td>2</td>\n",
       "      <td>610</td>\n",
       "      <td>16.0</td>\n",
       "      <td>0.0</td>\n",
       "      <td>0</td>\n",
       "    </tr>\n",
       "    <tr>\n",
       "      <th>4</th>\n",
       "      <td>EMA00081000109720</td>\n",
       "      <td>1</td>\n",
       "      <td>0.0</td>\n",
       "      <td>2</td>\n",
       "      <td>C</td>\n",
       "      <td>3</td>\n",
       "      <td>18.0</td>\n",
       "      <td>2</td>\n",
       "      <td>947</td>\n",
       "      <td>4.0</td>\n",
       "      <td>0.0</td>\n",
       "      <td>0</td>\n",
       "    </tr>\n",
       "  </tbody>\n",
       "</table>\n",
       "</div>"
      ],
      "text/plain": [
       "            Email_ID  Email_Type  Subject_Hotness_Score  Email_Source_Type  \\\n",
       "0  EMA00081000034500           1                    2.2                  2   \n",
       "1  EMA00081000045360           2                    2.1                  1   \n",
       "2  EMA00081000066290           2                    0.1                  1   \n",
       "3  EMA00081000076560           1                    3.0                  2   \n",
       "4  EMA00081000109720           1                    0.0                  2   \n",
       "\n",
       "  Customer_Location  Email_Campaign_Type  Total_Past_Communications  \\\n",
       "0                 E                    2                       33.0   \n",
       "1                 G                    2                       15.0   \n",
       "2                 B                    3                       36.0   \n",
       "3                 E                    2                       25.0   \n",
       "4                 C                    3                       18.0   \n",
       "\n",
       "   Time_Email_sent_Category  Word_Count  Total_Links  Total_Images  \\\n",
       "0                         1         440          8.0           0.0   \n",
       "1                         2         504          5.0           0.0   \n",
       "2                         2         962          5.0           0.0   \n",
       "3                         2         610         16.0           0.0   \n",
       "4                         2         947          4.0           0.0   \n",
       "\n",
       "   Email_Status  \n",
       "0             0  \n",
       "1             0  \n",
       "2             1  \n",
       "3             0  \n",
       "4             0  "
      ]
     },
     "execution_count": 8,
     "metadata": {},
     "output_type": "execute_result"
    }
   ],
   "source": [
    "data_c.head()"
   ]
  },
  {
   "cell_type": "code",
   "execution_count": 9,
   "metadata": {},
   "outputs": [],
   "source": [
    "data_c = pd.get_dummies(data_c, columns = ['Customer_Location'], drop_first=True)"
   ]
  },
  {
   "cell_type": "code",
   "execution_count": 10,
   "metadata": {},
   "outputs": [],
   "source": [
    "data_c = pd.get_dummies(data_c, columns = ['Email_Type','Email_Source_Type','Email_Campaign_Type','Time_Email_sent_Category'], drop_first=True)"
   ]
  },
  {
   "cell_type": "code",
   "execution_count": 11,
   "metadata": {},
   "outputs": [
    {
     "data": {
      "text/html": [
       "<div>\n",
       "<style scoped>\n",
       "    .dataframe tbody tr th:only-of-type {\n",
       "        vertical-align: middle;\n",
       "    }\n",
       "\n",
       "    .dataframe tbody tr th {\n",
       "        vertical-align: top;\n",
       "    }\n",
       "\n",
       "    .dataframe thead th {\n",
       "        text-align: right;\n",
       "    }\n",
       "</style>\n",
       "<table border=\"1\" class=\"dataframe\">\n",
       "  <thead>\n",
       "    <tr style=\"text-align: right;\">\n",
       "      <th></th>\n",
       "      <th>Email_ID</th>\n",
       "      <th>Subject_Hotness_Score</th>\n",
       "      <th>Total_Past_Communications</th>\n",
       "      <th>Word_Count</th>\n",
       "      <th>Total_Links</th>\n",
       "      <th>Total_Images</th>\n",
       "      <th>Email_Status</th>\n",
       "      <th>Customer_Location_B</th>\n",
       "      <th>Customer_Location_C</th>\n",
       "      <th>Customer_Location_D</th>\n",
       "      <th>Customer_Location_E</th>\n",
       "      <th>Customer_Location_F</th>\n",
       "      <th>Customer_Location_G</th>\n",
       "      <th>Email_Type_2</th>\n",
       "      <th>Email_Source_Type_2</th>\n",
       "      <th>Email_Campaign_Type_2</th>\n",
       "      <th>Email_Campaign_Type_3</th>\n",
       "      <th>Time_Email_sent_Category_2</th>\n",
       "      <th>Time_Email_sent_Category_3</th>\n",
       "    </tr>\n",
       "  </thead>\n",
       "  <tbody>\n",
       "    <tr>\n",
       "      <th>0</th>\n",
       "      <td>EMA00081000034500</td>\n",
       "      <td>2.2</td>\n",
       "      <td>33.0</td>\n",
       "      <td>440</td>\n",
       "      <td>8.0</td>\n",
       "      <td>0.0</td>\n",
       "      <td>0</td>\n",
       "      <td>0</td>\n",
       "      <td>0</td>\n",
       "      <td>0</td>\n",
       "      <td>1</td>\n",
       "      <td>0</td>\n",
       "      <td>0</td>\n",
       "      <td>0</td>\n",
       "      <td>1</td>\n",
       "      <td>1</td>\n",
       "      <td>0</td>\n",
       "      <td>0</td>\n",
       "      <td>0</td>\n",
       "    </tr>\n",
       "    <tr>\n",
       "      <th>1</th>\n",
       "      <td>EMA00081000045360</td>\n",
       "      <td>2.1</td>\n",
       "      <td>15.0</td>\n",
       "      <td>504</td>\n",
       "      <td>5.0</td>\n",
       "      <td>0.0</td>\n",
       "      <td>0</td>\n",
       "      <td>0</td>\n",
       "      <td>0</td>\n",
       "      <td>0</td>\n",
       "      <td>0</td>\n",
       "      <td>0</td>\n",
       "      <td>1</td>\n",
       "      <td>1</td>\n",
       "      <td>0</td>\n",
       "      <td>1</td>\n",
       "      <td>0</td>\n",
       "      <td>1</td>\n",
       "      <td>0</td>\n",
       "    </tr>\n",
       "    <tr>\n",
       "      <th>2</th>\n",
       "      <td>EMA00081000066290</td>\n",
       "      <td>0.1</td>\n",
       "      <td>36.0</td>\n",
       "      <td>962</td>\n",
       "      <td>5.0</td>\n",
       "      <td>0.0</td>\n",
       "      <td>1</td>\n",
       "      <td>1</td>\n",
       "      <td>0</td>\n",
       "      <td>0</td>\n",
       "      <td>0</td>\n",
       "      <td>0</td>\n",
       "      <td>0</td>\n",
       "      <td>1</td>\n",
       "      <td>0</td>\n",
       "      <td>0</td>\n",
       "      <td>1</td>\n",
       "      <td>1</td>\n",
       "      <td>0</td>\n",
       "    </tr>\n",
       "    <tr>\n",
       "      <th>3</th>\n",
       "      <td>EMA00081000076560</td>\n",
       "      <td>3.0</td>\n",
       "      <td>25.0</td>\n",
       "      <td>610</td>\n",
       "      <td>16.0</td>\n",
       "      <td>0.0</td>\n",
       "      <td>0</td>\n",
       "      <td>0</td>\n",
       "      <td>0</td>\n",
       "      <td>0</td>\n",
       "      <td>1</td>\n",
       "      <td>0</td>\n",
       "      <td>0</td>\n",
       "      <td>0</td>\n",
       "      <td>1</td>\n",
       "      <td>1</td>\n",
       "      <td>0</td>\n",
       "      <td>1</td>\n",
       "      <td>0</td>\n",
       "    </tr>\n",
       "    <tr>\n",
       "      <th>4</th>\n",
       "      <td>EMA00081000109720</td>\n",
       "      <td>0.0</td>\n",
       "      <td>18.0</td>\n",
       "      <td>947</td>\n",
       "      <td>4.0</td>\n",
       "      <td>0.0</td>\n",
       "      <td>0</td>\n",
       "      <td>0</td>\n",
       "      <td>1</td>\n",
       "      <td>0</td>\n",
       "      <td>0</td>\n",
       "      <td>0</td>\n",
       "      <td>0</td>\n",
       "      <td>0</td>\n",
       "      <td>1</td>\n",
       "      <td>0</td>\n",
       "      <td>1</td>\n",
       "      <td>1</td>\n",
       "      <td>0</td>\n",
       "    </tr>\n",
       "  </tbody>\n",
       "</table>\n",
       "</div>"
      ],
      "text/plain": [
       "            Email_ID  Subject_Hotness_Score  Total_Past_Communications  \\\n",
       "0  EMA00081000034500                    2.2                       33.0   \n",
       "1  EMA00081000045360                    2.1                       15.0   \n",
       "2  EMA00081000066290                    0.1                       36.0   \n",
       "3  EMA00081000076560                    3.0                       25.0   \n",
       "4  EMA00081000109720                    0.0                       18.0   \n",
       "\n",
       "   Word_Count  Total_Links  Total_Images  Email_Status  Customer_Location_B  \\\n",
       "0         440          8.0           0.0             0                    0   \n",
       "1         504          5.0           0.0             0                    0   \n",
       "2         962          5.0           0.0             1                    1   \n",
       "3         610         16.0           0.0             0                    0   \n",
       "4         947          4.0           0.0             0                    0   \n",
       "\n",
       "   Customer_Location_C  Customer_Location_D  Customer_Location_E  \\\n",
       "0                    0                    0                    1   \n",
       "1                    0                    0                    0   \n",
       "2                    0                    0                    0   \n",
       "3                    0                    0                    1   \n",
       "4                    1                    0                    0   \n",
       "\n",
       "   Customer_Location_F  Customer_Location_G  Email_Type_2  \\\n",
       "0                    0                    0             0   \n",
       "1                    0                    1             1   \n",
       "2                    0                    0             1   \n",
       "3                    0                    0             0   \n",
       "4                    0                    0             0   \n",
       "\n",
       "   Email_Source_Type_2  Email_Campaign_Type_2  Email_Campaign_Type_3  \\\n",
       "0                    1                      1                      0   \n",
       "1                    0                      1                      0   \n",
       "2                    0                      0                      1   \n",
       "3                    1                      1                      0   \n",
       "4                    1                      0                      1   \n",
       "\n",
       "   Time_Email_sent_Category_2  Time_Email_sent_Category_3  \n",
       "0                           0                           0  \n",
       "1                           1                           0  \n",
       "2                           1                           0  \n",
       "3                           1                           0  \n",
       "4                           1                           0  "
      ]
     },
     "execution_count": 11,
     "metadata": {},
     "output_type": "execute_result"
    }
   ],
   "source": [
    "data_c.head()"
   ]
  },
  {
   "cell_type": "code",
   "execution_count": 20,
   "metadata": {
    "scrolled": true
   },
   "outputs": [
    {
     "data": {
      "text/html": [
       "<div>\n",
       "<style scoped>\n",
       "    .dataframe tbody tr th:only-of-type {\n",
       "        vertical-align: middle;\n",
       "    }\n",
       "\n",
       "    .dataframe tbody tr th {\n",
       "        vertical-align: top;\n",
       "    }\n",
       "\n",
       "    .dataframe thead th {\n",
       "        text-align: right;\n",
       "    }\n",
       "</style>\n",
       "<table border=\"1\" class=\"dataframe\">\n",
       "  <thead>\n",
       "    <tr style=\"text-align: right;\">\n",
       "      <th></th>\n",
       "      <th>Email_ID</th>\n",
       "      <th>Subject_Hotness_Score</th>\n",
       "      <th>Total_Past_Communications</th>\n",
       "      <th>Word_Count</th>\n",
       "      <th>Total_Links</th>\n",
       "      <th>Total_Images</th>\n",
       "      <th>Email_Status</th>\n",
       "      <th>Customer_Location_B</th>\n",
       "      <th>Customer_Location_C</th>\n",
       "      <th>Customer_Location_D</th>\n",
       "      <th>Customer_Location_E</th>\n",
       "      <th>Customer_Location_F</th>\n",
       "      <th>Customer_Location_G</th>\n",
       "      <th>Email_Type_2</th>\n",
       "      <th>Email_Source_Type_2</th>\n",
       "      <th>Email_Campaign_Type_2</th>\n",
       "      <th>Email_Campaign_Type_3</th>\n",
       "      <th>Time_Email_sent_Category_2</th>\n",
       "      <th>Time_Email_sent_Category_3</th>\n",
       "    </tr>\n",
       "  </thead>\n",
       "  <tbody>\n",
       "    <tr>\n",
       "      <th>0</th>\n",
       "      <td>EMA00081000034500</td>\n",
       "      <td>2.2</td>\n",
       "      <td>33.0</td>\n",
       "      <td>440</td>\n",
       "      <td>8.0</td>\n",
       "      <td>0.0</td>\n",
       "      <td>0</td>\n",
       "      <td>0</td>\n",
       "      <td>0</td>\n",
       "      <td>0</td>\n",
       "      <td>1</td>\n",
       "      <td>0</td>\n",
       "      <td>0</td>\n",
       "      <td>0</td>\n",
       "      <td>1</td>\n",
       "      <td>1</td>\n",
       "      <td>0</td>\n",
       "      <td>0</td>\n",
       "      <td>0</td>\n",
       "    </tr>\n",
       "    <tr>\n",
       "      <th>1</th>\n",
       "      <td>EMA00081000045360</td>\n",
       "      <td>2.1</td>\n",
       "      <td>15.0</td>\n",
       "      <td>504</td>\n",
       "      <td>5.0</td>\n",
       "      <td>0.0</td>\n",
       "      <td>0</td>\n",
       "      <td>0</td>\n",
       "      <td>0</td>\n",
       "      <td>0</td>\n",
       "      <td>0</td>\n",
       "      <td>0</td>\n",
       "      <td>1</td>\n",
       "      <td>1</td>\n",
       "      <td>0</td>\n",
       "      <td>1</td>\n",
       "      <td>0</td>\n",
       "      <td>1</td>\n",
       "      <td>0</td>\n",
       "    </tr>\n",
       "    <tr>\n",
       "      <th>2</th>\n",
       "      <td>EMA00081000066290</td>\n",
       "      <td>0.1</td>\n",
       "      <td>36.0</td>\n",
       "      <td>962</td>\n",
       "      <td>5.0</td>\n",
       "      <td>0.0</td>\n",
       "      <td>1</td>\n",
       "      <td>1</td>\n",
       "      <td>0</td>\n",
       "      <td>0</td>\n",
       "      <td>0</td>\n",
       "      <td>0</td>\n",
       "      <td>0</td>\n",
       "      <td>1</td>\n",
       "      <td>0</td>\n",
       "      <td>0</td>\n",
       "      <td>1</td>\n",
       "      <td>1</td>\n",
       "      <td>0</td>\n",
       "    </tr>\n",
       "    <tr>\n",
       "      <th>3</th>\n",
       "      <td>EMA00081000076560</td>\n",
       "      <td>3.0</td>\n",
       "      <td>25.0</td>\n",
       "      <td>610</td>\n",
       "      <td>16.0</td>\n",
       "      <td>0.0</td>\n",
       "      <td>0</td>\n",
       "      <td>0</td>\n",
       "      <td>0</td>\n",
       "      <td>0</td>\n",
       "      <td>1</td>\n",
       "      <td>0</td>\n",
       "      <td>0</td>\n",
       "      <td>0</td>\n",
       "      <td>1</td>\n",
       "      <td>1</td>\n",
       "      <td>0</td>\n",
       "      <td>1</td>\n",
       "      <td>0</td>\n",
       "    </tr>\n",
       "    <tr>\n",
       "      <th>4</th>\n",
       "      <td>EMA00081000109720</td>\n",
       "      <td>0.0</td>\n",
       "      <td>18.0</td>\n",
       "      <td>947</td>\n",
       "      <td>4.0</td>\n",
       "      <td>0.0</td>\n",
       "      <td>0</td>\n",
       "      <td>0</td>\n",
       "      <td>1</td>\n",
       "      <td>0</td>\n",
       "      <td>0</td>\n",
       "      <td>0</td>\n",
       "      <td>0</td>\n",
       "      <td>0</td>\n",
       "      <td>1</td>\n",
       "      <td>0</td>\n",
       "      <td>1</td>\n",
       "      <td>1</td>\n",
       "      <td>0</td>\n",
       "    </tr>\n",
       "  </tbody>\n",
       "</table>\n",
       "</div>"
      ],
      "text/plain": [
       "            Email_ID  Subject_Hotness_Score  Total_Past_Communications  \\\n",
       "0  EMA00081000034500                    2.2                       33.0   \n",
       "1  EMA00081000045360                    2.1                       15.0   \n",
       "2  EMA00081000066290                    0.1                       36.0   \n",
       "3  EMA00081000076560                    3.0                       25.0   \n",
       "4  EMA00081000109720                    0.0                       18.0   \n",
       "\n",
       "   Word_Count  Total_Links  Total_Images  Email_Status  Customer_Location_B  \\\n",
       "0         440          8.0           0.0             0                    0   \n",
       "1         504          5.0           0.0             0                    0   \n",
       "2         962          5.0           0.0             1                    1   \n",
       "3         610         16.0           0.0             0                    0   \n",
       "4         947          4.0           0.0             0                    0   \n",
       "\n",
       "   Customer_Location_C  Customer_Location_D  Customer_Location_E  \\\n",
       "0                    0                    0                    1   \n",
       "1                    0                    0                    0   \n",
       "2                    0                    0                    0   \n",
       "3                    0                    0                    1   \n",
       "4                    1                    0                    0   \n",
       "\n",
       "   Customer_Location_F  Customer_Location_G  Email_Type_2  \\\n",
       "0                    0                    0             0   \n",
       "1                    0                    1             1   \n",
       "2                    0                    0             1   \n",
       "3                    0                    0             0   \n",
       "4                    0                    0             0   \n",
       "\n",
       "   Email_Source_Type_2  Email_Campaign_Type_2  Email_Campaign_Type_3  \\\n",
       "0                    1                      1                      0   \n",
       "1                    0                      1                      0   \n",
       "2                    0                      0                      1   \n",
       "3                    1                      1                      0   \n",
       "4                    1                      0                      1   \n",
       "\n",
       "   Time_Email_sent_Category_2  Time_Email_sent_Category_3  \n",
       "0                           0                           0  \n",
       "1                           1                           0  \n",
       "2                           1                           0  \n",
       "3                           1                           0  \n",
       "4                           1                           0  "
      ]
     },
     "execution_count": 20,
     "metadata": {},
     "output_type": "execute_result"
    }
   ],
   "source": [
    "data_c_y = data_c.copy()\n",
    "data_c_y.head()"
   ]
  },
  {
   "cell_type": "code",
   "execution_count": 22,
   "metadata": {
    "scrolled": true
   },
   "outputs": [
    {
     "data": {
      "text/html": [
       "<div>\n",
       "<style scoped>\n",
       "    .dataframe tbody tr th:only-of-type {\n",
       "        vertical-align: middle;\n",
       "    }\n",
       "\n",
       "    .dataframe tbody tr th {\n",
       "        vertical-align: top;\n",
       "    }\n",
       "\n",
       "    .dataframe thead th {\n",
       "        text-align: right;\n",
       "    }\n",
       "</style>\n",
       "<table border=\"1\" class=\"dataframe\">\n",
       "  <thead>\n",
       "    <tr style=\"text-align: right;\">\n",
       "      <th></th>\n",
       "      <th>Email_ID</th>\n",
       "      <th>Subject_Hotness_Score</th>\n",
       "      <th>Total_Past_Communications</th>\n",
       "      <th>Word_Count</th>\n",
       "      <th>Total_Links</th>\n",
       "      <th>Total_Images</th>\n",
       "      <th>Customer_Location_B</th>\n",
       "      <th>Customer_Location_C</th>\n",
       "      <th>Customer_Location_D</th>\n",
       "      <th>Customer_Location_E</th>\n",
       "      <th>Customer_Location_F</th>\n",
       "      <th>Customer_Location_G</th>\n",
       "      <th>Email_Type_2</th>\n",
       "      <th>Email_Source_Type_2</th>\n",
       "      <th>Email_Campaign_Type_2</th>\n",
       "      <th>Email_Campaign_Type_3</th>\n",
       "      <th>Time_Email_sent_Category_2</th>\n",
       "      <th>Time_Email_sent_Category_3</th>\n",
       "    </tr>\n",
       "  </thead>\n",
       "  <tbody>\n",
       "    <tr>\n",
       "      <th>0</th>\n",
       "      <td>EMA00081000034500</td>\n",
       "      <td>2.2</td>\n",
       "      <td>33.0</td>\n",
       "      <td>440</td>\n",
       "      <td>8.0</td>\n",
       "      <td>0.0</td>\n",
       "      <td>0</td>\n",
       "      <td>0</td>\n",
       "      <td>0</td>\n",
       "      <td>1</td>\n",
       "      <td>0</td>\n",
       "      <td>0</td>\n",
       "      <td>0</td>\n",
       "      <td>1</td>\n",
       "      <td>1</td>\n",
       "      <td>0</td>\n",
       "      <td>0</td>\n",
       "      <td>0</td>\n",
       "    </tr>\n",
       "    <tr>\n",
       "      <th>1</th>\n",
       "      <td>EMA00081000045360</td>\n",
       "      <td>2.1</td>\n",
       "      <td>15.0</td>\n",
       "      <td>504</td>\n",
       "      <td>5.0</td>\n",
       "      <td>0.0</td>\n",
       "      <td>0</td>\n",
       "      <td>0</td>\n",
       "      <td>0</td>\n",
       "      <td>0</td>\n",
       "      <td>0</td>\n",
       "      <td>1</td>\n",
       "      <td>1</td>\n",
       "      <td>0</td>\n",
       "      <td>1</td>\n",
       "      <td>0</td>\n",
       "      <td>1</td>\n",
       "      <td>0</td>\n",
       "    </tr>\n",
       "    <tr>\n",
       "      <th>2</th>\n",
       "      <td>EMA00081000066290</td>\n",
       "      <td>0.1</td>\n",
       "      <td>36.0</td>\n",
       "      <td>962</td>\n",
       "      <td>5.0</td>\n",
       "      <td>0.0</td>\n",
       "      <td>1</td>\n",
       "      <td>0</td>\n",
       "      <td>0</td>\n",
       "      <td>0</td>\n",
       "      <td>0</td>\n",
       "      <td>0</td>\n",
       "      <td>1</td>\n",
       "      <td>0</td>\n",
       "      <td>0</td>\n",
       "      <td>1</td>\n",
       "      <td>1</td>\n",
       "      <td>0</td>\n",
       "    </tr>\n",
       "    <tr>\n",
       "      <th>3</th>\n",
       "      <td>EMA00081000076560</td>\n",
       "      <td>3.0</td>\n",
       "      <td>25.0</td>\n",
       "      <td>610</td>\n",
       "      <td>16.0</td>\n",
       "      <td>0.0</td>\n",
       "      <td>0</td>\n",
       "      <td>0</td>\n",
       "      <td>0</td>\n",
       "      <td>1</td>\n",
       "      <td>0</td>\n",
       "      <td>0</td>\n",
       "      <td>0</td>\n",
       "      <td>1</td>\n",
       "      <td>1</td>\n",
       "      <td>0</td>\n",
       "      <td>1</td>\n",
       "      <td>0</td>\n",
       "    </tr>\n",
       "    <tr>\n",
       "      <th>4</th>\n",
       "      <td>EMA00081000109720</td>\n",
       "      <td>0.0</td>\n",
       "      <td>18.0</td>\n",
       "      <td>947</td>\n",
       "      <td>4.0</td>\n",
       "      <td>0.0</td>\n",
       "      <td>0</td>\n",
       "      <td>1</td>\n",
       "      <td>0</td>\n",
       "      <td>0</td>\n",
       "      <td>0</td>\n",
       "      <td>0</td>\n",
       "      <td>0</td>\n",
       "      <td>1</td>\n",
       "      <td>0</td>\n",
       "      <td>1</td>\n",
       "      <td>1</td>\n",
       "      <td>0</td>\n",
       "    </tr>\n",
       "  </tbody>\n",
       "</table>\n",
       "</div>"
      ],
      "text/plain": [
       "            Email_ID  Subject_Hotness_Score  Total_Past_Communications  \\\n",
       "0  EMA00081000034500                    2.2                       33.0   \n",
       "1  EMA00081000045360                    2.1                       15.0   \n",
       "2  EMA00081000066290                    0.1                       36.0   \n",
       "3  EMA00081000076560                    3.0                       25.0   \n",
       "4  EMA00081000109720                    0.0                       18.0   \n",
       "\n",
       "   Word_Count  Total_Links  Total_Images  Customer_Location_B  \\\n",
       "0         440          8.0           0.0                    0   \n",
       "1         504          5.0           0.0                    0   \n",
       "2         962          5.0           0.0                    1   \n",
       "3         610         16.0           0.0                    0   \n",
       "4         947          4.0           0.0                    0   \n",
       "\n",
       "   Customer_Location_C  Customer_Location_D  Customer_Location_E  \\\n",
       "0                    0                    0                    1   \n",
       "1                    0                    0                    0   \n",
       "2                    0                    0                    0   \n",
       "3                    0                    0                    1   \n",
       "4                    1                    0                    0   \n",
       "\n",
       "   Customer_Location_F  Customer_Location_G  Email_Type_2  \\\n",
       "0                    0                    0             0   \n",
       "1                    0                    1             1   \n",
       "2                    0                    0             1   \n",
       "3                    0                    0             0   \n",
       "4                    0                    0             0   \n",
       "\n",
       "   Email_Source_Type_2  Email_Campaign_Type_2  Email_Campaign_Type_3  \\\n",
       "0                    1                      1                      0   \n",
       "1                    0                      1                      0   \n",
       "2                    0                      0                      1   \n",
       "3                    1                      1                      0   \n",
       "4                    1                      0                      1   \n",
       "\n",
       "   Time_Email_sent_Category_2  Time_Email_sent_Category_3  \n",
       "0                           0                           0  \n",
       "1                           1                           0  \n",
       "2                           1                           0  \n",
       "3                           1                           0  \n",
       "4                           1                           0  "
      ]
     },
     "execution_count": 22,
     "metadata": {},
     "output_type": "execute_result"
    }
   ],
   "source": [
    "data_c_x = data_c.copy()\n",
    "data_c_x.head()"
   ]
  },
  {
   "cell_type": "code",
   "execution_count": 23,
   "metadata": {},
   "outputs": [
    {
     "data": {
      "text/plain": [
       "(68353, 18)"
      ]
     },
     "execution_count": 23,
     "metadata": {},
     "output_type": "execute_result"
    }
   ],
   "source": [
    "data_c.shape"
   ]
  },
  {
   "cell_type": "code",
   "execution_count": 24,
   "metadata": {},
   "outputs": [
    {
     "data": {
      "text/plain": [
       "(68353, 18)"
      ]
     },
     "execution_count": 24,
     "metadata": {},
     "output_type": "execute_result"
    }
   ],
   "source": [
    "data_c_x.shape"
   ]
  },
  {
   "cell_type": "code",
   "execution_count": 25,
   "metadata": {},
   "outputs": [
    {
     "data": {
      "text/plain": [
       "(68353, 19)"
      ]
     },
     "execution_count": 25,
     "metadata": {},
     "output_type": "execute_result"
    }
   ],
   "source": [
    "data_c_y.shape"
   ]
  },
  {
   "cell_type": "code",
   "execution_count": 28,
   "metadata": {},
   "outputs": [],
   "source": [
    "X = data_c_x.iloc[:,1:].values\n",
    "y = data_c_y.loc[:,'Email_Status'].values"
   ]
  },
  {
   "cell_type": "markdown",
   "metadata": {},
   "source": [
    "### Modeling"
   ]
  },
  {
   "cell_type": "code",
   "execution_count": 173,
   "metadata": {},
   "outputs": [],
   "source": [
    "from collections import Counter\n",
    "from imblearn.datasets import fetch_datasets\n",
    "from sklearn.model_selection import train_test_split\n",
    "from sklearn.pipeline import make_pipeline\n",
    "from imblearn.pipeline import make_pipeline as make_pipeline_imb\n",
    "from imblearn.over_sampling import SMOTE\n",
    "from imblearn.under_sampling import NearMiss\n",
    "from imblearn.metrics import classification_report_imbalanced\n",
    "from sklearn.ensemble import RandomForestClassifier\n",
    "from src.print import print_results\n",
    "from sklearn.metrics import confusion_matrix\n",
    "from sklearn.model_selection import GridSearchCV"
   ]
  },
  {
   "cell_type": "markdown",
   "metadata": {},
   "source": [
    "### Combine 1 & 2 for Undersampling"
   ]
  },
  {
   "cell_type": "code",
   "execution_count": 30,
   "metadata": {},
   "outputs": [
    {
     "data": {
      "text/html": [
       "<div>\n",
       "<style scoped>\n",
       "    .dataframe tbody tr th:only-of-type {\n",
       "        vertical-align: middle;\n",
       "    }\n",
       "\n",
       "    .dataframe tbody tr th {\n",
       "        vertical-align: top;\n",
       "    }\n",
       "\n",
       "    .dataframe thead th {\n",
       "        text-align: right;\n",
       "    }\n",
       "</style>\n",
       "<table border=\"1\" class=\"dataframe\">\n",
       "  <thead>\n",
       "    <tr style=\"text-align: right;\">\n",
       "      <th></th>\n",
       "      <th>Email_ID</th>\n",
       "      <th>Subject_Hotness_Score</th>\n",
       "      <th>Total_Past_Communications</th>\n",
       "      <th>Word_Count</th>\n",
       "      <th>Total_Links</th>\n",
       "      <th>Total_Images</th>\n",
       "      <th>Email_Status</th>\n",
       "      <th>Customer_Location_B</th>\n",
       "      <th>Customer_Location_C</th>\n",
       "      <th>Customer_Location_D</th>\n",
       "      <th>Customer_Location_E</th>\n",
       "      <th>Customer_Location_F</th>\n",
       "      <th>Customer_Location_G</th>\n",
       "      <th>Email_Type_2</th>\n",
       "      <th>Email_Source_Type_2</th>\n",
       "      <th>Email_Campaign_Type_2</th>\n",
       "      <th>Email_Campaign_Type_3</th>\n",
       "      <th>Time_Email_sent_Category_2</th>\n",
       "      <th>Time_Email_sent_Category_3</th>\n",
       "    </tr>\n",
       "  </thead>\n",
       "  <tbody>\n",
       "    <tr>\n",
       "      <th>0</th>\n",
       "      <td>EMA00081000034500</td>\n",
       "      <td>2.2</td>\n",
       "      <td>33.0</td>\n",
       "      <td>440</td>\n",
       "      <td>8.0</td>\n",
       "      <td>0.0</td>\n",
       "      <td>0</td>\n",
       "      <td>0</td>\n",
       "      <td>0</td>\n",
       "      <td>0</td>\n",
       "      <td>1</td>\n",
       "      <td>0</td>\n",
       "      <td>0</td>\n",
       "      <td>0</td>\n",
       "      <td>1</td>\n",
       "      <td>1</td>\n",
       "      <td>0</td>\n",
       "      <td>0</td>\n",
       "      <td>0</td>\n",
       "    </tr>\n",
       "    <tr>\n",
       "      <th>1</th>\n",
       "      <td>EMA00081000045360</td>\n",
       "      <td>2.1</td>\n",
       "      <td>15.0</td>\n",
       "      <td>504</td>\n",
       "      <td>5.0</td>\n",
       "      <td>0.0</td>\n",
       "      <td>0</td>\n",
       "      <td>0</td>\n",
       "      <td>0</td>\n",
       "      <td>0</td>\n",
       "      <td>0</td>\n",
       "      <td>0</td>\n",
       "      <td>1</td>\n",
       "      <td>1</td>\n",
       "      <td>0</td>\n",
       "      <td>1</td>\n",
       "      <td>0</td>\n",
       "      <td>1</td>\n",
       "      <td>0</td>\n",
       "    </tr>\n",
       "    <tr>\n",
       "      <th>2</th>\n",
       "      <td>EMA00081000066290</td>\n",
       "      <td>0.1</td>\n",
       "      <td>36.0</td>\n",
       "      <td>962</td>\n",
       "      <td>5.0</td>\n",
       "      <td>0.0</td>\n",
       "      <td>1</td>\n",
       "      <td>1</td>\n",
       "      <td>0</td>\n",
       "      <td>0</td>\n",
       "      <td>0</td>\n",
       "      <td>0</td>\n",
       "      <td>0</td>\n",
       "      <td>1</td>\n",
       "      <td>0</td>\n",
       "      <td>0</td>\n",
       "      <td>1</td>\n",
       "      <td>1</td>\n",
       "      <td>0</td>\n",
       "    </tr>\n",
       "    <tr>\n",
       "      <th>3</th>\n",
       "      <td>EMA00081000076560</td>\n",
       "      <td>3.0</td>\n",
       "      <td>25.0</td>\n",
       "      <td>610</td>\n",
       "      <td>16.0</td>\n",
       "      <td>0.0</td>\n",
       "      <td>0</td>\n",
       "      <td>0</td>\n",
       "      <td>0</td>\n",
       "      <td>0</td>\n",
       "      <td>1</td>\n",
       "      <td>0</td>\n",
       "      <td>0</td>\n",
       "      <td>0</td>\n",
       "      <td>1</td>\n",
       "      <td>1</td>\n",
       "      <td>0</td>\n",
       "      <td>1</td>\n",
       "      <td>0</td>\n",
       "    </tr>\n",
       "    <tr>\n",
       "      <th>4</th>\n",
       "      <td>EMA00081000109720</td>\n",
       "      <td>0.0</td>\n",
       "      <td>18.0</td>\n",
       "      <td>947</td>\n",
       "      <td>4.0</td>\n",
       "      <td>0.0</td>\n",
       "      <td>0</td>\n",
       "      <td>0</td>\n",
       "      <td>1</td>\n",
       "      <td>0</td>\n",
       "      <td>0</td>\n",
       "      <td>0</td>\n",
       "      <td>0</td>\n",
       "      <td>0</td>\n",
       "      <td>1</td>\n",
       "      <td>0</td>\n",
       "      <td>1</td>\n",
       "      <td>1</td>\n",
       "      <td>0</td>\n",
       "    </tr>\n",
       "  </tbody>\n",
       "</table>\n",
       "</div>"
      ],
      "text/plain": [
       "            Email_ID  Subject_Hotness_Score  Total_Past_Communications  \\\n",
       "0  EMA00081000034500                    2.2                       33.0   \n",
       "1  EMA00081000045360                    2.1                       15.0   \n",
       "2  EMA00081000066290                    0.1                       36.0   \n",
       "3  EMA00081000076560                    3.0                       25.0   \n",
       "4  EMA00081000109720                    0.0                       18.0   \n",
       "\n",
       "   Word_Count  Total_Links  Total_Images  Email_Status  Customer_Location_B  \\\n",
       "0         440          8.0           0.0             0                    0   \n",
       "1         504          5.0           0.0             0                    0   \n",
       "2         962          5.0           0.0             1                    1   \n",
       "3         610         16.0           0.0             0                    0   \n",
       "4         947          4.0           0.0             0                    0   \n",
       "\n",
       "   Customer_Location_C  Customer_Location_D  Customer_Location_E  \\\n",
       "0                    0                    0                    1   \n",
       "1                    0                    0                    0   \n",
       "2                    0                    0                    0   \n",
       "3                    0                    0                    1   \n",
       "4                    1                    0                    0   \n",
       "\n",
       "   Customer_Location_F  Customer_Location_G  Email_Type_2  \\\n",
       "0                    0                    0             0   \n",
       "1                    0                    1             1   \n",
       "2                    0                    0             1   \n",
       "3                    0                    0             0   \n",
       "4                    0                    0             0   \n",
       "\n",
       "   Email_Source_Type_2  Email_Campaign_Type_2  Email_Campaign_Type_3  \\\n",
       "0                    1                      1                      0   \n",
       "1                    0                      1                      0   \n",
       "2                    0                      0                      1   \n",
       "3                    1                      1                      0   \n",
       "4                    1                      0                      1   \n",
       "\n",
       "   Time_Email_sent_Category_2  Time_Email_sent_Category_3  \n",
       "0                           0                           0  \n",
       "1                           1                           0  \n",
       "2                           1                           0  \n",
       "3                           1                           0  \n",
       "4                           1                           0  "
      ]
     },
     "execution_count": 30,
     "metadata": {},
     "output_type": "execute_result"
    }
   ],
   "source": [
    "data_for_undersample = data_c_y.copy()\n",
    "data_for_undersample.head()"
   ]
  },
  {
   "cell_type": "code",
   "execution_count": 31,
   "metadata": {},
   "outputs": [
    {
     "data": {
      "text/plain": [
       "0    54941\n",
       "1    13412\n",
       "Name: Email_Status, dtype: int64"
      ]
     },
     "execution_count": 31,
     "metadata": {},
     "output_type": "execute_result"
    }
   ],
   "source": [
    "data_for_undersample.Email_Status.replace(to_replace=2, value=1, inplace=True)\n",
    "data_for_undersample.Email_Status.value_counts()"
   ]
  },
  {
   "cell_type": "code",
   "execution_count": 32,
   "metadata": {},
   "outputs": [],
   "source": [
    "data_for_undersample_x = data_for_undersample.copy()\n",
    "data_for_undersample_x.drop(columns=['Email_Status'], inplace=True)"
   ]
  },
  {
   "cell_type": "code",
   "execution_count": 36,
   "metadata": {},
   "outputs": [
    {
     "data": {
      "text/html": [
       "<div>\n",
       "<style scoped>\n",
       "    .dataframe tbody tr th:only-of-type {\n",
       "        vertical-align: middle;\n",
       "    }\n",
       "\n",
       "    .dataframe tbody tr th {\n",
       "        vertical-align: top;\n",
       "    }\n",
       "\n",
       "    .dataframe thead th {\n",
       "        text-align: right;\n",
       "    }\n",
       "</style>\n",
       "<table border=\"1\" class=\"dataframe\">\n",
       "  <thead>\n",
       "    <tr style=\"text-align: right;\">\n",
       "      <th></th>\n",
       "      <th>Email_ID</th>\n",
       "      <th>Subject_Hotness_Score</th>\n",
       "      <th>Total_Past_Communications</th>\n",
       "      <th>Word_Count</th>\n",
       "      <th>Total_Links</th>\n",
       "      <th>Total_Images</th>\n",
       "      <th>Customer_Location_B</th>\n",
       "      <th>Customer_Location_C</th>\n",
       "      <th>Customer_Location_D</th>\n",
       "      <th>Customer_Location_E</th>\n",
       "      <th>Customer_Location_F</th>\n",
       "      <th>Customer_Location_G</th>\n",
       "      <th>Email_Type_2</th>\n",
       "      <th>Email_Source_Type_2</th>\n",
       "      <th>Email_Campaign_Type_2</th>\n",
       "      <th>Email_Campaign_Type_3</th>\n",
       "      <th>Time_Email_sent_Category_2</th>\n",
       "      <th>Time_Email_sent_Category_3</th>\n",
       "    </tr>\n",
       "  </thead>\n",
       "  <tbody>\n",
       "    <tr>\n",
       "      <th>0</th>\n",
       "      <td>EMA00081000034500</td>\n",
       "      <td>2.2</td>\n",
       "      <td>33.0</td>\n",
       "      <td>440</td>\n",
       "      <td>8.0</td>\n",
       "      <td>0.0</td>\n",
       "      <td>0</td>\n",
       "      <td>0</td>\n",
       "      <td>0</td>\n",
       "      <td>1</td>\n",
       "      <td>0</td>\n",
       "      <td>0</td>\n",
       "      <td>0</td>\n",
       "      <td>1</td>\n",
       "      <td>1</td>\n",
       "      <td>0</td>\n",
       "      <td>0</td>\n",
       "      <td>0</td>\n",
       "    </tr>\n",
       "    <tr>\n",
       "      <th>1</th>\n",
       "      <td>EMA00081000045360</td>\n",
       "      <td>2.1</td>\n",
       "      <td>15.0</td>\n",
       "      <td>504</td>\n",
       "      <td>5.0</td>\n",
       "      <td>0.0</td>\n",
       "      <td>0</td>\n",
       "      <td>0</td>\n",
       "      <td>0</td>\n",
       "      <td>0</td>\n",
       "      <td>0</td>\n",
       "      <td>1</td>\n",
       "      <td>1</td>\n",
       "      <td>0</td>\n",
       "      <td>1</td>\n",
       "      <td>0</td>\n",
       "      <td>1</td>\n",
       "      <td>0</td>\n",
       "    </tr>\n",
       "    <tr>\n",
       "      <th>2</th>\n",
       "      <td>EMA00081000066290</td>\n",
       "      <td>0.1</td>\n",
       "      <td>36.0</td>\n",
       "      <td>962</td>\n",
       "      <td>5.0</td>\n",
       "      <td>0.0</td>\n",
       "      <td>1</td>\n",
       "      <td>0</td>\n",
       "      <td>0</td>\n",
       "      <td>0</td>\n",
       "      <td>0</td>\n",
       "      <td>0</td>\n",
       "      <td>1</td>\n",
       "      <td>0</td>\n",
       "      <td>0</td>\n",
       "      <td>1</td>\n",
       "      <td>1</td>\n",
       "      <td>0</td>\n",
       "    </tr>\n",
       "    <tr>\n",
       "      <th>3</th>\n",
       "      <td>EMA00081000076560</td>\n",
       "      <td>3.0</td>\n",
       "      <td>25.0</td>\n",
       "      <td>610</td>\n",
       "      <td>16.0</td>\n",
       "      <td>0.0</td>\n",
       "      <td>0</td>\n",
       "      <td>0</td>\n",
       "      <td>0</td>\n",
       "      <td>1</td>\n",
       "      <td>0</td>\n",
       "      <td>0</td>\n",
       "      <td>0</td>\n",
       "      <td>1</td>\n",
       "      <td>1</td>\n",
       "      <td>0</td>\n",
       "      <td>1</td>\n",
       "      <td>0</td>\n",
       "    </tr>\n",
       "    <tr>\n",
       "      <th>4</th>\n",
       "      <td>EMA00081000109720</td>\n",
       "      <td>0.0</td>\n",
       "      <td>18.0</td>\n",
       "      <td>947</td>\n",
       "      <td>4.0</td>\n",
       "      <td>0.0</td>\n",
       "      <td>0</td>\n",
       "      <td>1</td>\n",
       "      <td>0</td>\n",
       "      <td>0</td>\n",
       "      <td>0</td>\n",
       "      <td>0</td>\n",
       "      <td>0</td>\n",
       "      <td>1</td>\n",
       "      <td>0</td>\n",
       "      <td>1</td>\n",
       "      <td>1</td>\n",
       "      <td>0</td>\n",
       "    </tr>\n",
       "    <tr>\n",
       "      <th>...</th>\n",
       "      <td>...</td>\n",
       "      <td>...</td>\n",
       "      <td>...</td>\n",
       "      <td>...</td>\n",
       "      <td>...</td>\n",
       "      <td>...</td>\n",
       "      <td>...</td>\n",
       "      <td>...</td>\n",
       "      <td>...</td>\n",
       "      <td>...</td>\n",
       "      <td>...</td>\n",
       "      <td>...</td>\n",
       "      <td>...</td>\n",
       "      <td>...</td>\n",
       "      <td>...</td>\n",
       "      <td>...</td>\n",
       "      <td>...</td>\n",
       "      <td>...</td>\n",
       "    </tr>\n",
       "    <tr>\n",
       "      <th>68348</th>\n",
       "      <td>EMA00089995974500</td>\n",
       "      <td>0.4</td>\n",
       "      <td>22.0</td>\n",
       "      <td>737</td>\n",
       "      <td>16.0</td>\n",
       "      <td>13.0</td>\n",
       "      <td>0</td>\n",
       "      <td>0</td>\n",
       "      <td>0</td>\n",
       "      <td>0</td>\n",
       "      <td>1</td>\n",
       "      <td>0</td>\n",
       "      <td>1</td>\n",
       "      <td>0</td>\n",
       "      <td>1</td>\n",
       "      <td>0</td>\n",
       "      <td>0</td>\n",
       "      <td>1</td>\n",
       "    </tr>\n",
       "    <tr>\n",
       "      <th>68349</th>\n",
       "      <td>EMA00089998225300</td>\n",
       "      <td>1.3</td>\n",
       "      <td>40.0</td>\n",
       "      <td>653</td>\n",
       "      <td>31.0</td>\n",
       "      <td>16.0</td>\n",
       "      <td>0</td>\n",
       "      <td>1</td>\n",
       "      <td>0</td>\n",
       "      <td>0</td>\n",
       "      <td>0</td>\n",
       "      <td>0</td>\n",
       "      <td>0</td>\n",
       "      <td>0</td>\n",
       "      <td>1</td>\n",
       "      <td>0</td>\n",
       "      <td>1</td>\n",
       "      <td>0</td>\n",
       "    </tr>\n",
       "    <tr>\n",
       "      <th>68350</th>\n",
       "      <td>EMA00089998436500</td>\n",
       "      <td>2.2</td>\n",
       "      <td>33.0</td>\n",
       "      <td>490</td>\n",
       "      <td>9.0</td>\n",
       "      <td>0.0</td>\n",
       "      <td>0</td>\n",
       "      <td>0</td>\n",
       "      <td>0</td>\n",
       "      <td>0</td>\n",
       "      <td>0</td>\n",
       "      <td>1</td>\n",
       "      <td>0</td>\n",
       "      <td>1</td>\n",
       "      <td>1</td>\n",
       "      <td>0</td>\n",
       "      <td>1</td>\n",
       "      <td>0</td>\n",
       "    </tr>\n",
       "    <tr>\n",
       "      <th>68351</th>\n",
       "      <td>EMA00089999168800</td>\n",
       "      <td>0.4</td>\n",
       "      <td>50.0</td>\n",
       "      <td>733</td>\n",
       "      <td>14.0</td>\n",
       "      <td>4.0</td>\n",
       "      <td>0</td>\n",
       "      <td>0</td>\n",
       "      <td>0</td>\n",
       "      <td>1</td>\n",
       "      <td>0</td>\n",
       "      <td>0</td>\n",
       "      <td>0</td>\n",
       "      <td>0</td>\n",
       "      <td>1</td>\n",
       "      <td>0</td>\n",
       "      <td>0</td>\n",
       "      <td>0</td>\n",
       "    </tr>\n",
       "    <tr>\n",
       "      <th>68352</th>\n",
       "      <td>EMA00089999316900</td>\n",
       "      <td>1.5</td>\n",
       "      <td>20.0</td>\n",
       "      <td>1038</td>\n",
       "      <td>6.0</td>\n",
       "      <td>0.0</td>\n",
       "      <td>0</td>\n",
       "      <td>0</td>\n",
       "      <td>0</td>\n",
       "      <td>0</td>\n",
       "      <td>0</td>\n",
       "      <td>1</td>\n",
       "      <td>0</td>\n",
       "      <td>0</td>\n",
       "      <td>1</td>\n",
       "      <td>0</td>\n",
       "      <td>1</td>\n",
       "      <td>0</td>\n",
       "    </tr>\n",
       "  </tbody>\n",
       "</table>\n",
       "<p>68353 rows × 18 columns</p>\n",
       "</div>"
      ],
      "text/plain": [
       "                Email_ID  Subject_Hotness_Score  Total_Past_Communications  \\\n",
       "0      EMA00081000034500                    2.2                       33.0   \n",
       "1      EMA00081000045360                    2.1                       15.0   \n",
       "2      EMA00081000066290                    0.1                       36.0   \n",
       "3      EMA00081000076560                    3.0                       25.0   \n",
       "4      EMA00081000109720                    0.0                       18.0   \n",
       "...                  ...                    ...                        ...   \n",
       "68348  EMA00089995974500                    0.4                       22.0   \n",
       "68349  EMA00089998225300                    1.3                       40.0   \n",
       "68350  EMA00089998436500                    2.2                       33.0   \n",
       "68351  EMA00089999168800                    0.4                       50.0   \n",
       "68352  EMA00089999316900                    1.5                       20.0   \n",
       "\n",
       "       Word_Count  Total_Links  Total_Images  Customer_Location_B  \\\n",
       "0             440          8.0           0.0                    0   \n",
       "1             504          5.0           0.0                    0   \n",
       "2             962          5.0           0.0                    1   \n",
       "3             610         16.0           0.0                    0   \n",
       "4             947          4.0           0.0                    0   \n",
       "...           ...          ...           ...                  ...   \n",
       "68348         737         16.0          13.0                    0   \n",
       "68349         653         31.0          16.0                    0   \n",
       "68350         490          9.0           0.0                    0   \n",
       "68351         733         14.0           4.0                    0   \n",
       "68352        1038          6.0           0.0                    0   \n",
       "\n",
       "       Customer_Location_C  Customer_Location_D  Customer_Location_E  \\\n",
       "0                        0                    0                    1   \n",
       "1                        0                    0                    0   \n",
       "2                        0                    0                    0   \n",
       "3                        0                    0                    1   \n",
       "4                        1                    0                    0   \n",
       "...                    ...                  ...                  ...   \n",
       "68348                    0                    0                    0   \n",
       "68349                    1                    0                    0   \n",
       "68350                    0                    0                    0   \n",
       "68351                    0                    0                    1   \n",
       "68352                    0                    0                    0   \n",
       "\n",
       "       Customer_Location_F  Customer_Location_G  Email_Type_2  \\\n",
       "0                        0                    0             0   \n",
       "1                        0                    1             1   \n",
       "2                        0                    0             1   \n",
       "3                        0                    0             0   \n",
       "4                        0                    0             0   \n",
       "...                    ...                  ...           ...   \n",
       "68348                    1                    0             1   \n",
       "68349                    0                    0             0   \n",
       "68350                    0                    1             0   \n",
       "68351                    0                    0             0   \n",
       "68352                    0                    1             0   \n",
       "\n",
       "       Email_Source_Type_2  Email_Campaign_Type_2  Email_Campaign_Type_3  \\\n",
       "0                        1                      1                      0   \n",
       "1                        0                      1                      0   \n",
       "2                        0                      0                      1   \n",
       "3                        1                      1                      0   \n",
       "4                        1                      0                      1   \n",
       "...                    ...                    ...                    ...   \n",
       "68348                    0                      1                      0   \n",
       "68349                    0                      1                      0   \n",
       "68350                    1                      1                      0   \n",
       "68351                    0                      1                      0   \n",
       "68352                    0                      1                      0   \n",
       "\n",
       "       Time_Email_sent_Category_2  Time_Email_sent_Category_3  \n",
       "0                               0                           0  \n",
       "1                               1                           0  \n",
       "2                               1                           0  \n",
       "3                               1                           0  \n",
       "4                               1                           0  \n",
       "...                           ...                         ...  \n",
       "68348                           0                           1  \n",
       "68349                           1                           0  \n",
       "68350                           1                           0  \n",
       "68351                           0                           0  \n",
       "68352                           1                           0  \n",
       "\n",
       "[68353 rows x 18 columns]"
      ]
     },
     "execution_count": 36,
     "metadata": {},
     "output_type": "execute_result"
    }
   ],
   "source": [
    "data_for_undersample_x"
   ]
  },
  {
   "cell_type": "code",
   "execution_count": 37,
   "metadata": {},
   "outputs": [],
   "source": [
    "X_comb = data_for_undersample_x.iloc[:,1:].values\n",
    "y_comb = data_for_undersample.loc[:,'Email_Status'].values"
   ]
  },
  {
   "cell_type": "code",
   "execution_count": 38,
   "metadata": {},
   "outputs": [],
   "source": [
    "X_train1, X_test1, y_train1, y_test1 = train_test_split(X_comb, y_comb, test_size = 0.2, random_state = 2)"
   ]
  },
  {
   "cell_type": "code",
   "execution_count": 83,
   "metadata": {},
   "outputs": [
    {
     "name": "stdout",
     "output_type": "stream",
     "text": [
      "Resample dataset shape Counter({0: 10741, 1: 10741})\n"
     ]
    }
   ],
   "source": [
    "# undersample train set\n",
    "nm = NearMiss(sampling_strategy=1)\n",
    "X_train_un, y_train_un = nm.fit_resample(X_train1, y_train1)\n",
    "print('Resample dataset shape %s' % Counter(y_train_un))"
   ]
  },
  {
   "cell_type": "code",
   "execution_count": 63,
   "metadata": {},
   "outputs": [],
   "source": [
    "# removing some features\n",
    "data_drop = data_for_undersample.drop(['Customer_Location_G','Customer_Location_F','Customer_Location_E',\n",
    "                                      'Customer_Location_D','Customer_Location_C','Customer_Location_B'], axis = 1)"
   ]
  },
  {
   "cell_type": "code",
   "execution_count": 64,
   "metadata": {},
   "outputs": [
    {
     "data": {
      "text/html": [
       "<div>\n",
       "<style scoped>\n",
       "    .dataframe tbody tr th:only-of-type {\n",
       "        vertical-align: middle;\n",
       "    }\n",
       "\n",
       "    .dataframe tbody tr th {\n",
       "        vertical-align: top;\n",
       "    }\n",
       "\n",
       "    .dataframe thead th {\n",
       "        text-align: right;\n",
       "    }\n",
       "</style>\n",
       "<table border=\"1\" class=\"dataframe\">\n",
       "  <thead>\n",
       "    <tr style=\"text-align: right;\">\n",
       "      <th></th>\n",
       "      <th>Email_ID</th>\n",
       "      <th>Subject_Hotness_Score</th>\n",
       "      <th>Total_Past_Communications</th>\n",
       "      <th>Word_Count</th>\n",
       "      <th>Total_Links</th>\n",
       "      <th>Total_Images</th>\n",
       "      <th>Email_Status</th>\n",
       "      <th>Email_Type_2</th>\n",
       "      <th>Email_Source_Type_2</th>\n",
       "      <th>Email_Campaign_Type_2</th>\n",
       "      <th>Email_Campaign_Type_3</th>\n",
       "      <th>Time_Email_sent_Category_2</th>\n",
       "      <th>Time_Email_sent_Category_3</th>\n",
       "    </tr>\n",
       "  </thead>\n",
       "  <tbody>\n",
       "    <tr>\n",
       "      <th>0</th>\n",
       "      <td>EMA00081000034500</td>\n",
       "      <td>2.2</td>\n",
       "      <td>33.0</td>\n",
       "      <td>440</td>\n",
       "      <td>8.0</td>\n",
       "      <td>0.0</td>\n",
       "      <td>0</td>\n",
       "      <td>0</td>\n",
       "      <td>1</td>\n",
       "      <td>1</td>\n",
       "      <td>0</td>\n",
       "      <td>0</td>\n",
       "      <td>0</td>\n",
       "    </tr>\n",
       "    <tr>\n",
       "      <th>1</th>\n",
       "      <td>EMA00081000045360</td>\n",
       "      <td>2.1</td>\n",
       "      <td>15.0</td>\n",
       "      <td>504</td>\n",
       "      <td>5.0</td>\n",
       "      <td>0.0</td>\n",
       "      <td>0</td>\n",
       "      <td>1</td>\n",
       "      <td>0</td>\n",
       "      <td>1</td>\n",
       "      <td>0</td>\n",
       "      <td>1</td>\n",
       "      <td>0</td>\n",
       "    </tr>\n",
       "    <tr>\n",
       "      <th>2</th>\n",
       "      <td>EMA00081000066290</td>\n",
       "      <td>0.1</td>\n",
       "      <td>36.0</td>\n",
       "      <td>962</td>\n",
       "      <td>5.0</td>\n",
       "      <td>0.0</td>\n",
       "      <td>1</td>\n",
       "      <td>1</td>\n",
       "      <td>0</td>\n",
       "      <td>0</td>\n",
       "      <td>1</td>\n",
       "      <td>1</td>\n",
       "      <td>0</td>\n",
       "    </tr>\n",
       "    <tr>\n",
       "      <th>3</th>\n",
       "      <td>EMA00081000076560</td>\n",
       "      <td>3.0</td>\n",
       "      <td>25.0</td>\n",
       "      <td>610</td>\n",
       "      <td>16.0</td>\n",
       "      <td>0.0</td>\n",
       "      <td>0</td>\n",
       "      <td>0</td>\n",
       "      <td>1</td>\n",
       "      <td>1</td>\n",
       "      <td>0</td>\n",
       "      <td>1</td>\n",
       "      <td>0</td>\n",
       "    </tr>\n",
       "    <tr>\n",
       "      <th>4</th>\n",
       "      <td>EMA00081000109720</td>\n",
       "      <td>0.0</td>\n",
       "      <td>18.0</td>\n",
       "      <td>947</td>\n",
       "      <td>4.0</td>\n",
       "      <td>0.0</td>\n",
       "      <td>0</td>\n",
       "      <td>0</td>\n",
       "      <td>1</td>\n",
       "      <td>0</td>\n",
       "      <td>1</td>\n",
       "      <td>1</td>\n",
       "      <td>0</td>\n",
       "    </tr>\n",
       "  </tbody>\n",
       "</table>\n",
       "</div>"
      ],
      "text/plain": [
       "            Email_ID  Subject_Hotness_Score  Total_Past_Communications  \\\n",
       "0  EMA00081000034500                    2.2                       33.0   \n",
       "1  EMA00081000045360                    2.1                       15.0   \n",
       "2  EMA00081000066290                    0.1                       36.0   \n",
       "3  EMA00081000076560                    3.0                       25.0   \n",
       "4  EMA00081000109720                    0.0                       18.0   \n",
       "\n",
       "   Word_Count  Total_Links  Total_Images  Email_Status  Email_Type_2  \\\n",
       "0         440          8.0           0.0             0             0   \n",
       "1         504          5.0           0.0             0             1   \n",
       "2         962          5.0           0.0             1             1   \n",
       "3         610         16.0           0.0             0             0   \n",
       "4         947          4.0           0.0             0             0   \n",
       "\n",
       "   Email_Source_Type_2  Email_Campaign_Type_2  Email_Campaign_Type_3  \\\n",
       "0                    1                      1                      0   \n",
       "1                    0                      1                      0   \n",
       "2                    0                      0                      1   \n",
       "3                    1                      1                      0   \n",
       "4                    1                      0                      1   \n",
       "\n",
       "   Time_Email_sent_Category_2  Time_Email_sent_Category_3  \n",
       "0                           0                           0  \n",
       "1                           1                           0  \n",
       "2                           1                           0  \n",
       "3                           1                           0  \n",
       "4                           1                           0  "
      ]
     },
     "execution_count": 64,
     "metadata": {},
     "output_type": "execute_result"
    }
   ],
   "source": [
    "data_drop.head()"
   ]
  },
  {
   "cell_type": "code",
   "execution_count": 65,
   "metadata": {},
   "outputs": [],
   "source": [
    "data_drop_x = data_drop.copy()\n",
    "data_drop_x.drop(columns=['Email_Status'], inplace=True)"
   ]
  },
  {
   "cell_type": "code",
   "execution_count": 66,
   "metadata": {},
   "outputs": [],
   "source": [
    "X_drop = data_drop_x.iloc[:,1:].values\n",
    "y_drop = data_drop.loc[:,'Email_Status'].values"
   ]
  },
  {
   "cell_type": "code",
   "execution_count": 68,
   "metadata": {},
   "outputs": [],
   "source": [
    "X_traind, X_testd, y_traind, y_testd = train_test_split(X_drop, y_drop, test_size = 0.2, random_state = 2)"
   ]
  },
  {
   "cell_type": "code",
   "execution_count": 82,
   "metadata": {},
   "outputs": [
    {
     "name": "stdout",
     "output_type": "stream",
     "text": [
      "Resample dataset shape Counter({0: 26852, 1: 10741})\n"
     ]
    }
   ],
   "source": [
    "# undersample with dataset with dropped feature 2.5:1\n",
    "nm_d = NearMiss(sampling_strategy=0.4)\n",
    "X_train_und, y_train_und = nm_d.fit_resample(X_traind, y_traind)\n",
    "print('Resample dataset shape %s' % Counter(y_train_und))\n"
   ]
  },
  {
   "cell_type": "code",
   "execution_count": 101,
   "metadata": {},
   "outputs": [
    {
     "name": "stdout",
     "output_type": "stream",
     "text": [
      "Resample dataset shape Counter({0: 21482, 1: 10741})\n"
     ]
    }
   ],
   "source": [
    "# undersample with dataset with dropped feature 2:1\n",
    "nm_d2 = NearMiss(sampling_strategy=0.5)\n",
    "X_train_und2, y_train_und2 = nm_d2.fit_resample(X_traind, y_traind)\n",
    "print('Resample dataset shape %s' % Counter(y_train_und2))"
   ]
  },
  {
   "cell_type": "code",
   "execution_count": 102,
   "metadata": {},
   "outputs": [
    {
     "name": "stdout",
     "output_type": "stream",
     "text": [
      "Resample dataset shape Counter({0: 10741, 1: 10741})\n"
     ]
    }
   ],
   "source": [
    "# undersample with dataset with dropped feature 1:1\n",
    "nm_d1 = NearMiss(sampling_strategy=1)\n",
    "X_train_und1, y_train_und1 = nm_d1.fit_resample(X_traind, y_traind)\n",
    "print('Resample dataset shape %s' % Counter(y_train_und1))"
   ]
  },
  {
   "cell_type": "code",
   "execution_count": 103,
   "metadata": {},
   "outputs": [
    {
     "name": "stdout",
     "output_type": "stream",
     "text": [
      "Resample dataset shape Counter({0: 32223, 1: 10741})\n"
     ]
    }
   ],
   "source": [
    "# undersample with dataset with dropped feature 3:1\n",
    "nm_d3 = NearMiss(sampling_strategy=1/3)\n",
    "X_train_und3, y_train_und3 = nm_d3.fit_resample(X_traind, y_traind)\n",
    "print('Resample dataset shape %s' % Counter(y_train_und3))"
   ]
  },
  {
   "cell_type": "code",
   "execution_count": 104,
   "metadata": {},
   "outputs": [
    {
     "name": "stdout",
     "output_type": "stream",
     "text": [
      "Resample dataset shape Counter({0: 26852, 1: 10741})\n"
     ]
    }
   ],
   "source": [
    "# undersample train set with 2.5:1\n",
    "nm2 = NearMiss(sampling_strategy=0.4)\n",
    "X_train_un2, y_train_un2 = nm2.fit_resample(X_train1, y_train1)\n",
    "print('Resample dataset shape %s' % Counter(y_train_un2))"
   ]
  },
  {
   "cell_type": "markdown",
   "metadata": {},
   "source": [
    "***oversample***"
   ]
  },
  {
   "cell_type": "code",
   "execution_count": 153,
   "metadata": {},
   "outputs": [
    {
     "name": "stdout",
     "output_type": "stream",
     "text": [
      "Resample dataset shape Counter({0: 43941, 1: 43941})\n"
     ]
    }
   ],
   "source": [
    "# oversample with dataset with dropped feature\n",
    "sm = SMOTE(sampling_strategy=1)\n",
    "X_train_ov, y_train_ov = sm.fit_resample(X_traind, y_traind)\n",
    "print('Resample dataset shape %s' % Counter(y_train_ov))"
   ]
  },
  {
   "cell_type": "code",
   "execution_count": 201,
   "metadata": {},
   "outputs": [
    {
     "name": "stdout",
     "output_type": "stream",
     "text": [
      "Resample dataset shape Counter({0: 43941, 1: 17576})\n"
     ]
    }
   ],
   "source": [
    "# dropped feature, 2.5:1\n",
    "sm_half = SMOTE(sampling_strategy=0.4)\n",
    "X_train_ovhalf, y_train_ovhalf = sm_half.fit_resample(X_traind, y_traind)\n",
    "print('Resample dataset shape %s' % Counter(y_train_ovhalf))"
   ]
  },
  {
   "cell_type": "code",
   "execution_count": 211,
   "metadata": {},
   "outputs": [
    {
     "name": "stdout",
     "output_type": "stream",
     "text": [
      "Resample dataset shape Counter({0: 43941, 1: 26364})\n"
     ]
    }
   ],
   "source": [
    "# dropped feature, 1.5:1\n",
    "sm_6 = SMOTE(sampling_strategy=0.6)\n",
    "X_train_6, y_train_6 = sm_6.fit_resample(X_traind, y_traind)\n",
    "print('Resample dataset shape %s' % Counter(y_train_6))"
   ]
  },
  {
   "cell_type": "code",
   "execution_count": 213,
   "metadata": {},
   "outputs": [
    {
     "name": "stdout",
     "output_type": "stream",
     "text": [
      "Resample dataset shape Counter({0: 43941, 1: 35152})\n"
     ]
    }
   ],
   "source": [
    "# dropped feature, 1.25:1\n",
    "sm_8 = SMOTE(sampling_strategy=0.8)\n",
    "X_train_8, y_train_8 = sm_8.fit_resample(X_traind, y_traind)\n",
    "print('Resample dataset shape %s' % Counter(y_train_8))"
   ]
  },
  {
   "cell_type": "markdown",
   "metadata": {},
   "source": [
    "### XGBoost"
   ]
  },
  {
   "cell_type": "code",
   "execution_count": 44,
   "metadata": {},
   "outputs": [],
   "source": [
    "from xgboost import XGBClassifier\n",
    "from sklearn.metrics import precision_score, recall_score, f1_score, roc_auc_score, accuracy_score, classification_report"
   ]
  },
  {
   "cell_type": "code",
   "execution_count": 42,
   "metadata": {
    "scrolled": true
   },
   "outputs": [],
   "source": [
    "# undersample train set with 1:1\n",
    "clf_xgb_un = XGBClassifier(max_depth=4, gamma=0.56, learning_rate=0.01)\n",
    "clf_xgb_un.fit(X_train_un, y_train_un)\n",
    "y_pred_xgb_un = clf_xgb_un.predict(X_test1)"
   ]
  },
  {
   "cell_type": "code",
   "execution_count": 43,
   "metadata": {},
   "outputs": [
    {
     "data": {
      "text/plain": [
       "array([[5024, 5976],\n",
       "       [ 699, 1972]])"
      ]
     },
     "execution_count": 43,
     "metadata": {},
     "output_type": "execute_result"
    }
   ],
   "source": [
    "confusion_matrix(y_test1, y_pred_xgb_un)"
   ]
  },
  {
   "cell_type": "code",
   "execution_count": 45,
   "metadata": {},
   "outputs": [
    {
     "name": "stdout",
     "output_type": "stream",
     "text": [
      "                   precision    recall  f1-score   support\n",
      "\n",
      "          ignored       0.88      0.46      0.60     11000\n",
      "read+acknowledged       0.25      0.74      0.37      2671\n",
      "\n",
      "         accuracy                           0.51     13671\n",
      "        macro avg       0.56      0.60      0.49     13671\n",
      "     weighted avg       0.75      0.51      0.56     13671\n",
      "\n"
     ]
    }
   ],
   "source": [
    "taarget_names = ['ignored','read+acknowledged']\n",
    "print(classification_report(y_test1, y_pred_xgb_un, target_names=target_names))"
   ]
  },
  {
   "cell_type": "code",
   "execution_count": 48,
   "metadata": {},
   "outputs": [],
   "source": [
    "clf_xgb_un2 = XGBClassifier(max_depth=4, gamma=0.56, learning_rate=0.01)\n",
    "clf_xgb_un2.fit(X_train_un2, y_train_un2)\n",
    "y_pred_xgb_un2 = clf_xgb_un.predict(X_test1)"
   ]
  },
  {
   "cell_type": "code",
   "execution_count": 49,
   "metadata": {
    "scrolled": true
   },
   "outputs": [
    {
     "data": {
      "text/plain": [
       "array([[5024, 5976],\n",
       "       [ 699, 1972]])"
      ]
     },
     "execution_count": 49,
     "metadata": {},
     "output_type": "execute_result"
    }
   ],
   "source": [
    "confusion_matrix(y_test1, y_pred_xgb_un2)"
   ]
  },
  {
   "cell_type": "code",
   "execution_count": 51,
   "metadata": {
    "scrolled": true
   },
   "outputs": [
    {
     "name": "stdout",
     "output_type": "stream",
     "text": [
      "                         pre       rec       spe        f1       geo       iba       sup\n",
      "\n",
      "          ignored       0.88      0.46      0.74      0.60      0.58      0.33     11000\n",
      "read+acknowledged       0.25      0.74      0.46      0.37      0.58      0.35      2671\n",
      "\n",
      "      avg / total       0.75      0.51      0.68      0.56      0.58      0.33     13671\n",
      "\n"
     ]
    }
   ],
   "source": [
    "taarget_names = ['ignored','read+acknowledged']\n",
    "print(classification_report_imbalanced(y_test1, y_pred_xgb_un, target_names=target_names))"
   ]
  },
  {
   "cell_type": "code",
   "execution_count": 95,
   "metadata": {},
   "outputs": [
    {
     "data": {
      "text/plain": [
       "0.5975137674007012"
      ]
     },
     "execution_count": 95,
     "metadata": {},
     "output_type": "execute_result"
    }
   ],
   "source": [
    "roc_auc_score(y_test1, y_pred_xgb_un)"
   ]
  },
  {
   "cell_type": "code",
   "execution_count": 90,
   "metadata": {},
   "outputs": [],
   "source": [
    "# no over or under sampling\n",
    "clf_xgb = XGBClassifier(max_depth=4, gamma=0.56, learning_rate=0.01)\n",
    "clf_xgb.fit(X_train1, y_train1)\n",
    "y_pred_xgb = clf_xgb.predict(X_test1)"
   ]
  },
  {
   "cell_type": "code",
   "execution_count": 91,
   "metadata": {},
   "outputs": [
    {
     "data": {
      "text/plain": [
       "array([[10591,   409],\n",
       "       [ 2005,   666]])"
      ]
     },
     "execution_count": 91,
     "metadata": {},
     "output_type": "execute_result"
    }
   ],
   "source": [
    "confusion_matrix(y_test1, y_pred_xgb)"
   ]
  },
  {
   "cell_type": "code",
   "execution_count": 92,
   "metadata": {
    "scrolled": true
   },
   "outputs": [
    {
     "name": "stdout",
     "output_type": "stream",
     "text": [
      "                         pre       rec       spe        f1       geo       iba       sup\n",
      "\n",
      "          ignored       0.88      0.46      0.74      0.60      0.58      0.33     11000\n",
      "read+acknowledged       0.25      0.74      0.46      0.37      0.58      0.35      2671\n",
      "\n",
      "      avg / total       0.75      0.51      0.68      0.56      0.58      0.33     13671\n",
      "\n"
     ]
    }
   ],
   "source": [
    "taarget_names = ['ignored','read+acknowledged']\n",
    "print(classification_report_imbalanced(y_test1, y_pred_xgb_un, target_names=target_names))"
   ]
  },
  {
   "cell_type": "code",
   "execution_count": 93,
   "metadata": {},
   "outputs": [
    {
     "data": {
      "text/plain": [
       "0.6060814982471665"
      ]
     },
     "execution_count": 93,
     "metadata": {},
     "output_type": "execute_result"
    }
   ],
   "source": [
    "roc_auc_score(y_test1, y_pred_xgb)"
   ]
  },
  {
   "cell_type": "code",
   "execution_count": 154,
   "metadata": {},
   "outputs": [],
   "source": [
    "# oversampling with binary class and removed feature\n",
    "clf_xgb_ov = XGBClassifier(max_depth=4, gamma=0.56, learning_rate=0.01)\n",
    "clf_xgb_ov.fit(X_train_ov, y_train_ov)\n",
    "y_pred_xgb_ov = clf_xgb_ov.predict(X_testd)"
   ]
  },
  {
   "cell_type": "code",
   "execution_count": 155,
   "metadata": {},
   "outputs": [
    {
     "data": {
      "text/plain": [
       "array([[8976, 2024],\n",
       "       [1150, 1521]])"
      ]
     },
     "execution_count": 155,
     "metadata": {},
     "output_type": "execute_result"
    }
   ],
   "source": [
    "confusion_matrix(y_testd, y_pred_xgb_ov)"
   ]
  },
  {
   "cell_type": "code",
   "execution_count": 156,
   "metadata": {},
   "outputs": [
    {
     "data": {
      "text/plain": [
       "0.6927248221639836"
      ]
     },
     "execution_count": 156,
     "metadata": {},
     "output_type": "execute_result"
    }
   ],
   "source": [
    "roc_auc_score(y_testd, y_pred_xgb_ov)"
   ]
  },
  {
   "cell_type": "code",
   "execution_count": 157,
   "metadata": {},
   "outputs": [
    {
     "name": "stdout",
     "output_type": "stream",
     "text": [
      "                         pre       rec       spe        f1       geo       iba       sup\n",
      "\n",
      "          ignored       0.89      0.82      0.57      0.85      0.68      0.48     11000\n",
      "read+acknowledged       0.43      0.57      0.82      0.49      0.68      0.45      2671\n",
      "\n",
      "      avg / total       0.80      0.77      0.62      0.78      0.68      0.47     13671\n",
      "\n"
     ]
    }
   ],
   "source": [
    "target_names = ['ignored','read+acknowledged']\n",
    "print(classification_report_imbalanced(y_testd, y_pred_xgb_ov, target_names=target_names))"
   ]
  },
  {
   "cell_type": "code",
   "execution_count": 105,
   "metadata": {},
   "outputs": [],
   "source": [
    "# undersampling with binary class and removed feature 2.5:1\n",
    "clf_xgb_und = XGBClassifier(max_depth=4, gamma=0.56, learning_rate=0.01)\n",
    "clf_xgb_und.fit(X_train_und, y_train_und)\n",
    "y_pred_xgb_und = clf_xgb_und.predict(X_testd)"
   ]
  },
  {
   "cell_type": "code",
   "execution_count": 107,
   "metadata": {},
   "outputs": [
    {
     "data": {
      "text/plain": [
       "0.616890303257207"
      ]
     },
     "execution_count": 107,
     "metadata": {},
     "output_type": "execute_result"
    }
   ],
   "source": [
    "roc_auc_score(y_testd, y_pred_xgb_und)"
   ]
  },
  {
   "cell_type": "code",
   "execution_count": 108,
   "metadata": {
    "scrolled": false
   },
   "outputs": [
    {
     "name": "stdout",
     "output_type": "stream",
     "text": [
      "                         pre       rec       spe        f1       geo       iba       sup\n",
      "\n",
      "          ignored       0.85      0.87      0.37      0.86      0.56      0.33     11000\n",
      "read+acknowledged       0.40      0.37      0.87      0.38      0.56      0.30      2671\n",
      "\n",
      "      avg / total       0.76      0.77      0.46      0.77      0.56      0.33     13671\n",
      "\n"
     ]
    }
   ],
   "source": [
    "target_names = ['ignored','read+acknowledged']\n",
    "print(classification_report_imbalanced(y_testd, y_pred_xgb_und, target_names=target_names))"
   ]
  },
  {
   "cell_type": "code",
   "execution_count": 150,
   "metadata": {},
   "outputs": [],
   "source": [
    "# no over under sampling, removed feature\n",
    "# undersampling with binary class and removed feature 2.5:1\n",
    "clf_xgb_d = XGBClassifier(max_depth=4, gamma=0.56, learning_rate=0.01)\n",
    "clf_xgb_d.fit(X_traind, y_traind)\n",
    "y_pred_xgb_d= clf_xgb_d.predict(X_testd)"
   ]
  },
  {
   "cell_type": "code",
   "execution_count": 151,
   "metadata": {},
   "outputs": [
    {
     "data": {
      "text/plain": [
       "0.6060814982471665"
      ]
     },
     "execution_count": 151,
     "metadata": {},
     "output_type": "execute_result"
    }
   ],
   "source": [
    "roc_auc_score(y_testd, y_pred_xgb_d)"
   ]
  },
  {
   "cell_type": "code",
   "execution_count": 152,
   "metadata": {
    "scrolled": true
   },
   "outputs": [
    {
     "name": "stdout",
     "output_type": "stream",
     "text": [
      "                         pre       rec       spe        f1       geo       iba       sup\n",
      "\n",
      "          ignored       0.85      0.87      0.37      0.86      0.56      0.33     11000\n",
      "read+acknowledged       0.40      0.37      0.87      0.38      0.56      0.30      2671\n",
      "\n",
      "      avg / total       0.76      0.77      0.46      0.77      0.56      0.33     13671\n",
      "\n"
     ]
    }
   ],
   "source": [
    "print(classification_report_imbalanced(y_testd, y_pred_xgb_und, target_names=target_names))"
   ]
  },
  {
   "cell_type": "code",
   "execution_count": 228,
   "metadata": {},
   "outputs": [],
   "source": [
    "parameters = [\n",
    "              {'eta':[0.01], 'gamma':[0.6,0.8], 'max_depth':[5]}]\n",
    "\n",
    "gridsearch = GridSearchCV(estimator = clf_xgb_ov, param_grid = parameters, scoring='roc_auc')\n",
    "gridsearch = gridsearch.fit(X_train_ov, y_train_ov)\n",
    "best_roc = gridsearch.best_score_\n",
    "best_parameters = gridsearch.best_params_"
   ]
  },
  {
   "cell_type": "code",
   "execution_count": 229,
   "metadata": {},
   "outputs": [
    {
     "data": {
      "text/plain": [
       "0.8958756782045892"
      ]
     },
     "execution_count": 229,
     "metadata": {},
     "output_type": "execute_result"
    }
   ],
   "source": [
    "best_roc"
   ]
  },
  {
   "cell_type": "code",
   "execution_count": 230,
   "metadata": {
    "scrolled": true
   },
   "outputs": [
    {
     "data": {
      "text/plain": [
       "{'eta': 0.01, 'gamma': 0.6, 'max_depth': 5}"
      ]
     },
     "execution_count": 230,
     "metadata": {},
     "output_type": "execute_result"
    }
   ],
   "source": [
    "best_parameters"
   ]
  },
  {
   "cell_type": "code",
   "execution_count": 240,
   "metadata": {},
   "outputs": [],
   "source": [
    "# oversampling with binary class and removed feature\n",
    "clf_xgb_ov = XGBClassifier(max_depth=4, gamma=0.65, learning_rate=0.01)\n",
    "clf_xgb_ov.fit(X_train_ov, y_train_ov)\n",
    "y_pred_xgb_ov = clf_xgb_ov.predict(X_testd)"
   ]
  },
  {
   "cell_type": "code",
   "execution_count": 241,
   "metadata": {},
   "outputs": [
    {
     "data": {
      "text/plain": [
       "0.6927248221639836"
      ]
     },
     "execution_count": 241,
     "metadata": {},
     "output_type": "execute_result"
    }
   ],
   "source": [
    "roc_auc_score(y_testd, y_pred_xgb_ov)"
   ]
  },
  {
   "cell_type": "code",
   "execution_count": 233,
   "metadata": {},
   "outputs": [
    {
     "data": {
      "text/plain": [
       "0.7850925316363104"
      ]
     },
     "execution_count": 233,
     "metadata": {},
     "output_type": "execute_result"
    }
   ],
   "source": [
    "accuracy_score(y_testd, y_pred_xgb_ov)"
   ]
  },
  {
   "cell_type": "markdown",
   "metadata": {},
   "source": [
    "### Random Forest"
   ]
  },
  {
   "cell_type": "code",
   "execution_count": 52,
   "metadata": {},
   "outputs": [],
   "source": [
    "clf_rf_un = RandomForestClassifier()\n",
    "clf_rf_un.fit(X_train_un, y_train_un)\n",
    "y_pred_rf_un = clf_rf_un.predict(X_test1)"
   ]
  },
  {
   "cell_type": "code",
   "execution_count": 53,
   "metadata": {},
   "outputs": [
    {
     "data": {
      "text/plain": [
       "array([[4426, 6574],\n",
       "       [ 726, 1945]])"
      ]
     },
     "execution_count": 53,
     "metadata": {},
     "output_type": "execute_result"
    }
   ],
   "source": [
    "confusion_matrix(y_test1, y_pred_rf_un, labels=[0,1])"
   ]
  },
  {
   "cell_type": "code",
   "execution_count": 54,
   "metadata": {},
   "outputs": [
    {
     "name": "stdout",
     "output_type": "stream",
     "text": [
      "                         pre       rec       spe        f1       geo       iba       sup\n",
      "\n",
      "          ignored       0.86      0.40      0.73      0.55      0.54      0.28     11000\n",
      "read+acknowledged       0.23      0.73      0.40      0.35      0.54      0.30      2671\n",
      "\n",
      "      avg / total       0.74      0.47      0.66      0.51      0.54      0.29     13671\n",
      "\n"
     ]
    }
   ],
   "source": [
    "taarget_names = ['ignored','read+acknowledged']\n",
    "print(classification_report_imbalanced(y_test1, y_pred_rf_un, target_names=target_names))"
   ]
  },
  {
   "cell_type": "code",
   "execution_count": 62,
   "metadata": {},
   "outputs": [
    {
     "data": {
      "text/plain": [
       "<matplotlib.axes._subplots.AxesSubplot at 0x12af69cf8>"
      ]
     },
     "execution_count": 62,
     "metadata": {},
     "output_type": "execute_result"
    },
    {
     "data": {
      "image/png": "[encoded data removed]",
      "text/plain": [
       "<Figure size 432x288 with 1 Axes>"
      ]
     },
     "metadata": {},
     "output_type": "display_data"
    }
   ],
   "source": [
    "# Plot the feature importance\n",
    "feat_scores = pd.DataFrame({'Fraction of Samples Affected' : clf_rf_un.feature_importances_},\n",
    "                           index=data_for_undersample_x.iloc[:,1:].columns)\n",
    "feat_scores = feat_scores.sort_values(by='Fraction of Samples Affected')\n",
    "feat_scores.plot(kind='barh')\n",
    "\n",
    "#will be removing customer location feature"
   ]
  },
  {
   "cell_type": "code",
   "execution_count": 71,
   "metadata": {},
   "outputs": [],
   "source": [
    "clf_rf_und = RandomForestClassifier()\n",
    "clf_rf_und.fit(X_train_und, y_train_und)\n",
    "y_pred_rf_und = clf_rf_und.predict(X_testd)"
   ]
  },
  {
   "cell_type": "code",
   "execution_count": 72,
   "metadata": {},
   "outputs": [
    {
     "data": {
      "text/plain": [
       "array([[8549, 2451],\n",
       "       [1552, 1119]])"
      ]
     },
     "execution_count": 72,
     "metadata": {},
     "output_type": "execute_result"
    }
   ],
   "source": [
    "confusion_matrix(y_testd, y_pred_rf_und, labels=[0,1])"
   ]
  },
  {
   "cell_type": "code",
   "execution_count": 73,
   "metadata": {
    "scrolled": true
   },
   "outputs": [
    {
     "name": "stdout",
     "output_type": "stream",
     "text": [
      "                         pre       rec       spe        f1       geo       iba       sup\n",
      "\n",
      "          ignored       0.85      0.78      0.42      0.81      0.57      0.34     11000\n",
      "read+acknowledged       0.31      0.42      0.78      0.36      0.57      0.31      2671\n",
      "\n",
      "      avg / total       0.74      0.71      0.49      0.72      0.57      0.33     13671\n",
      "\n"
     ]
    }
   ],
   "source": [
    "taarget_names = ['ignored','read+acknowledged']\n",
    "print(classification_report_imbalanced(y_testd, y_pred_rf_und, target_names=target_names))"
   ]
  },
  {
   "cell_type": "code",
   "execution_count": 110,
   "metadata": {},
   "outputs": [
    {
     "data": {
      "text/plain": [
       "0.5980630169156939"
      ]
     },
     "execution_count": 110,
     "metadata": {},
     "output_type": "execute_result"
    }
   ],
   "source": [
    "roc_auc_score(y_testd, y_pred_rf_und)"
   ]
  },
  {
   "cell_type": "code",
   "execution_count": 164,
   "metadata": {},
   "outputs": [],
   "source": [
    "clf_rf_ov = RandomForestClassifier(n_estimators=200, max_depth=5, min_samples_leaf=10, min_samples_split=10)\n",
    "clf_rf_ov.fit(X_train_ov, y_train_ov)\n",
    "y_pred_rf_ov = clf_rf_ov.predict(X_testd)"
   ]
  },
  {
   "cell_type": "code",
   "execution_count": 165,
   "metadata": {},
   "outputs": [
    {
     "data": {
      "text/plain": [
       "array([[9394, 1606],\n",
       "       [1308, 1363]])"
      ]
     },
     "execution_count": 165,
     "metadata": {},
     "output_type": "execute_result"
    }
   ],
   "source": [
    "confusion_matrix(y_testd, y_pred_rf_ov, labels=[0,1])"
   ]
  },
  {
   "cell_type": "code",
   "execution_count": 166,
   "metadata": {
    "scrolled": true
   },
   "outputs": [
    {
     "name": "stdout",
     "output_type": "stream",
     "text": [
      "                         pre       rec       spe        f1       geo       iba       sup\n",
      "\n",
      "          ignored       0.88      0.85      0.51      0.87      0.66      0.45     11000\n",
      "read+acknowledged       0.46      0.51      0.85      0.48      0.66      0.42      2671\n",
      "\n",
      "      avg / total       0.80      0.79      0.58      0.79      0.66      0.44     13671\n",
      "\n"
     ]
    }
   ],
   "source": [
    "print(classification_report_imbalanced(y_testd, y_pred_rf_ov, target_names=target_names))"
   ]
  },
  {
   "cell_type": "code",
   "execution_count": 167,
   "metadata": {},
   "outputs": [
    {
     "data": {
      "text/plain": [
       "0.682147884687383"
      ]
     },
     "execution_count": 167,
     "metadata": {},
     "output_type": "execute_result"
    }
   ],
   "source": [
    "roc_auc_score(y_testd, y_pred_rf_ov)"
   ]
  },
  {
   "cell_type": "markdown",
   "metadata": {},
   "source": [
    "### Gradient Boosting"
   ]
  },
  {
   "cell_type": "code",
   "execution_count": 74,
   "metadata": {},
   "outputs": [],
   "source": [
    "from sklearn.ensemble import GradientBoostingClassifier"
   ]
  },
  {
   "cell_type": "code",
   "execution_count": 84,
   "metadata": {},
   "outputs": [],
   "source": [
    "clf_gb_un2 = GradientBoostingClassifier(n_estimators=250, min_samples_split=10, min_samples_leaf=10, max_depth=5) \n",
    "clf_gb_un2.fit(X_train_un2, y_train_un2)\n",
    "y_pred_gb_un2 = clf_gb_un2.predict(X_test1)"
   ]
  },
  {
   "cell_type": "code",
   "execution_count": 85,
   "metadata": {},
   "outputs": [
    {
     "data": {
      "text/plain": [
       "array([[8488, 2512],\n",
       "       [1518, 1153]])"
      ]
     },
     "execution_count": 85,
     "metadata": {},
     "output_type": "execute_result"
    }
   ],
   "source": [
    "confusion_matrix(y_test1, y_pred_gb_un2, labels=[0,1])"
   ]
  },
  {
   "cell_type": "code",
   "execution_count": 86,
   "metadata": {},
   "outputs": [
    {
     "name": "stdout",
     "output_type": "stream",
     "text": [
      "                         pre       rec       spe        f1       geo       iba       sup\n",
      "\n",
      "          ignored       0.85      0.77      0.43      0.81      0.58      0.34     11000\n",
      "read+acknowledged       0.31      0.43      0.77      0.36      0.58      0.32      2671\n",
      "\n",
      "      avg / total       0.74      0.71      0.50      0.72      0.58      0.34     13671\n",
      "\n"
     ]
    }
   ],
   "source": [
    "target_names = ['ignored','read+acknowledged']\n",
    "print(classification_report_imbalanced(y_test1, y_pred_gb_un2, target_names=target_names))"
   ]
  },
  {
   "cell_type": "code",
   "execution_count": 87,
   "metadata": {},
   "outputs": [],
   "source": [
    "clf_gb_und = GradientBoostingClassifier(n_estimators=250, min_samples_split=10, min_samples_leaf=10, max_depth=5) \n",
    "clf_gb_und.fit(X_train_und, y_train_und)\n",
    "y_pred_gb_und = clf_gb_und.predict(X_testd)"
   ]
  },
  {
   "cell_type": "code",
   "execution_count": 88,
   "metadata": {},
   "outputs": [
    {
     "data": {
      "text/plain": [
       "array([[8510, 2490],\n",
       "       [1505, 1166]])"
      ]
     },
     "execution_count": 88,
     "metadata": {},
     "output_type": "execute_result"
    }
   ],
   "source": [
    "confusion_matrix(y_testd, y_pred_gb_und, labels=[0,1])"
   ]
  },
  {
   "cell_type": "code",
   "execution_count": 89,
   "metadata": {
    "scrolled": false
   },
   "outputs": [
    {
     "name": "stdout",
     "output_type": "stream",
     "text": [
      "                         pre       rec       spe        f1       geo       iba       sup\n",
      "\n",
      "          ignored       0.85      0.77      0.43      0.81      0.58      0.34     11000\n",
      "read+acknowledged       0.31      0.43      0.77      0.36      0.58      0.32      2671\n",
      "\n",
      "      avg / total       0.74      0.71      0.50      0.72      0.58      0.34     13671\n",
      "\n"
     ]
    }
   ],
   "source": [
    "target_names = ['ignored','read+acknowledged']\n",
    "print(classification_report_imbalanced(y_test1, y_pred_gb_un2, target_names=target_names))"
   ]
  },
  {
   "cell_type": "code",
   "execution_count": 168,
   "metadata": {},
   "outputs": [],
   "source": [
    "clf_gb_ov = GradientBoostingClassifier(n_estimators=250, min_samples_split=10, min_samples_leaf=10, max_depth=5) \n",
    "clf_gb_ov.fit(X_train_ov, y_train_ov)\n",
    "y_pred_gb_ov = clf_gb_ov.predict(X_testd)"
   ]
  },
  {
   "cell_type": "code",
   "execution_count": 169,
   "metadata": {},
   "outputs": [
    {
     "data": {
      "text/plain": [
       "array([[10466,   534],\n",
       "       [ 1845,   826]])"
      ]
     },
     "execution_count": 169,
     "metadata": {},
     "output_type": "execute_result"
    }
   ],
   "source": [
    "confusion_matrix(y_testd, y_pred_gb_ov, labels=[0,1])"
   ]
  },
  {
   "cell_type": "code",
   "execution_count": 170,
   "metadata": {},
   "outputs": [
    {
     "name": "stdout",
     "output_type": "stream",
     "text": [
      "                         pre       rec       spe        f1       geo       iba       sup\n",
      "\n",
      "          ignored       0.85      0.95      0.31      0.90      0.54      0.31     11000\n",
      "read+acknowledged       0.61      0.31      0.95      0.41      0.54      0.28      2671\n",
      "\n",
      "      avg / total       0.80      0.83      0.43      0.80      0.54      0.31     13671\n",
      "\n"
     ]
    }
   ],
   "source": [
    "print(classification_report_imbalanced(y_testd, y_pred_gb_ov, target_names=target_names))"
   ]
  },
  {
   "cell_type": "code",
   "execution_count": 171,
   "metadata": {},
   "outputs": [
    {
     "data": {
      "text/plain": [
       "0.6303510091555767"
      ]
     },
     "execution_count": 171,
     "metadata": {},
     "output_type": "execute_result"
    }
   ],
   "source": [
    "roc_auc_score(y_testd, y_pred_gb_ov)"
   ]
  },
  {
   "cell_type": "code",
   "execution_count": 109,
   "metadata": {},
   "outputs": [
    {
     "data": {
      "text/plain": [
       "0.6050884925632212"
      ]
     },
     "execution_count": 109,
     "metadata": {},
     "output_type": "execute_result"
    }
   ],
   "source": [
    "roc_auc_score(y_testd, y_pred_gb_und)"
   ]
  },
  {
   "cell_type": "markdown",
   "metadata": {},
   "source": [
    "### Under Sampling"
   ]
  },
  {
   "cell_type": "code",
   "execution_count": 195,
   "metadata": {},
   "outputs": [],
   "source": [
    "# undersample train set with 2.5:1\n",
    "# xgboos\n",
    "clf_xgb_und = XGBClassifier(max_depth=5, gamma=0.56, learning_rate=0.01)\n",
    "clf_xgb_und.fit(X_train_und, y_train_und)\n",
    "y_pred_xgb_und = clf_xgb_und.predict(X_testd)"
   ]
  },
  {
   "cell_type": "code",
   "execution_count": 262,
   "metadata": {
    "scrolled": true
   },
   "outputs": [
    {
     "data": {
      "text/plain": [
       "0.7533863455854969"
      ]
     },
     "execution_count": 262,
     "metadata": {},
     "output_type": "execute_result"
    }
   ],
   "source": [
    "p_und = precision_score(y_testd, y_pred_xgb_und, average='weighted')\n",
    "p_und"
   ]
  },
  {
   "cell_type": "code",
   "execution_count": 258,
   "metadata": {},
   "outputs": [],
   "source": [
    "# undersample train set with 1:1\n",
    "# xgboos\n",
    "clf_xgb_und1 = XGBClassifier(max_depth=5, gamma=0.56, learning_rate=0.01)\n",
    "clf_xgb_und1.fit(X_train_und1, y_train_und1)\n",
    "y_pred_xgb_und1 = clf_xgb_und1.predict(X_testd)"
   ]
  },
  {
   "cell_type": "code",
   "execution_count": 261,
   "metadata": {},
   "outputs": [
    {
     "data": {
      "text/plain": [
       "0.7533863455854969"
      ]
     },
     "execution_count": 261,
     "metadata": {},
     "output_type": "execute_result"
    }
   ],
   "source": [
    "p_und1 = precision_score(y_testd, y_pred_xgb_und, average='weighted')\n",
    "p_und1"
   ]
  },
  {
   "cell_type": "code",
   "execution_count": 260,
   "metadata": {},
   "outputs": [
    {
     "name": "stdout",
     "output_type": "stream",
     "text": [
      "                         pre       rec       spe        f1       geo       iba       sup\n",
      "\n",
      "          ignored       0.85      0.85      0.36      0.85      0.56      0.32     11000\n",
      "read+acknowledged       0.37      0.36      0.85      0.37      0.56      0.29      2671\n",
      "\n",
      "      avg / total       0.75      0.75      0.46      0.75      0.56      0.32     13671\n",
      "\n"
     ]
    }
   ],
   "source": [
    "print(classification_report_imbalanced(y_testd, y_pred_xgb_und, target_names=target_names))"
   ]
  },
  {
   "cell_type": "code",
   "execution_count": 197,
   "metadata": {},
   "outputs": [],
   "source": [
    "# randomforest\n",
    "clf_rf_und = RandomForestClassifier()\n",
    "clf_rf_und.fit(X_train_und, y_train_und)\n",
    "y_pred_rf_und = clf_rf_und.predict(X_testd)"
   ]
  },
  {
   "cell_type": "code",
   "execution_count": 295,
   "metadata": {},
   "outputs": [],
   "source": [
    "clf_rf_und1 = RandomForestClassifier()\n",
    "clf_rf_und1.fit(X_train_und1, y_train_und1)\n",
    "y_pred_rf_und1 = clf_rf_und1.predict(X_testd)"
   ]
  },
  {
   "cell_type": "code",
   "execution_count": 296,
   "metadata": {},
   "outputs": [
    {
     "data": {
      "text/plain": [
       "0.7327199589889687"
      ]
     },
     "execution_count": 296,
     "metadata": {},
     "output_type": "execute_result"
    }
   ],
   "source": [
    "p_und1_rf = precision_score(y_testd, y_pred_rf_und1, average='weighted')\n",
    "p_und1_rf"
   ]
  },
  {
   "cell_type": "code",
   "execution_count": 208,
   "metadata": {},
   "outputs": [],
   "source": [
    "# gradientboosting\n",
    "clf_gb_und = GradientBoostingClassifier(n_estimators=250, max_depth=5) \n",
    "clf_gb_und.fit(X_train_und, y_train_und)\n",
    "y_pred_gb_und = clf_gb_und.predict(X_testd)"
   ]
  },
  {
   "cell_type": "code",
   "execution_count": 297,
   "metadata": {},
   "outputs": [],
   "source": [
    "# gradientboosting 1:1\n",
    "clf_gb_und1 = GradientBoostingClassifier(n_estimators=250, max_depth=5) \n",
    "clf_gb_und1.fit(X_train_und1, y_train_und1)\n",
    "y_pred_gb_und1 = clf_gb_und1.predict(X_testd)"
   ]
  },
  {
   "cell_type": "code",
   "execution_count": 298,
   "metadata": {},
   "outputs": [
    {
     "data": {
      "text/plain": [
       "0.7385487700413804"
      ]
     },
     "execution_count": 298,
     "metadata": {},
     "output_type": "execute_result"
    }
   ],
   "source": [
    "p_und1_gb = precision_score(y_testd, y_pred_gb_und1, average='weighted')\n",
    "p_und1_gb"
   ]
  },
  {
   "cell_type": "markdown",
   "metadata": {},
   "source": [
    "### Over Sampling"
   ]
  },
  {
   "cell_type": "code",
   "execution_count": 202,
   "metadata": {},
   "outputs": [],
   "source": [
    "# oversample feature removed, 2.5:1 (churn:not churn)\n",
    "clf_xgb_ovhalf = XGBClassifier(max_depth=5, gamma=0.56, learning_rate=0.01)\n",
    "clf_xgb_ovhalf.fit(X_train_ovhalf, y_train_ovhalf)\n",
    "y_pred_xgb_ovhalf = clf_xgb_ovhalf.predict(X_testd)"
   ]
  },
  {
   "cell_type": "code",
   "execution_count": 203,
   "metadata": {},
   "outputs": [],
   "source": [
    "# randomforest\n",
    "clf_rf_ovhalf = RandomForestClassifier()\n",
    "clf_rf_ovhalf.fit(X_train_ovhalf, y_train_ovhalf)\n",
    "y_pred_rf_ovhalf = clf_rf_ovhalf.predict(X_testd)"
   ]
  },
  {
   "cell_type": "code",
   "execution_count": 287,
   "metadata": {},
   "outputs": [],
   "source": [
    "clf_rf_ov = RandomForestClassifier()\n",
    "clf_rf_ov.fit(X_train_ov, y_train_ov)\n",
    "y_pred_rf_ov = clf_rf_ov.predict(X_testd)"
   ]
  },
  {
   "cell_type": "code",
   "execution_count": 288,
   "metadata": {},
   "outputs": [
    {
     "data": {
      "text/plain": [
       "0.7843852911566368"
      ]
     },
     "execution_count": 288,
     "metadata": {},
     "output_type": "execute_result"
    }
   ],
   "source": [
    "precision_score(y_testd, y_pred_rf_ov, average='weighted')"
   ]
  },
  {
   "cell_type": "code",
   "execution_count": 206,
   "metadata": {},
   "outputs": [],
   "source": [
    "# gradientboosting\n",
    "clf_gb_ovhalf = GradientBoostingClassifier(n_estimators=100, min_samples_split=10, min_samples_leaf=10, max_depth=5) \n",
    "clf_gb_ovhalf.fit(X_train_ovhalf, y_train_ovhalf)\n",
    "y_pred_gb_ovhalf = clf_gb_ovhalf.predict(X_testd)"
   ]
  },
  {
   "cell_type": "code",
   "execution_count": null,
   "metadata": {},
   "outputs": [],
   "source": [
    "# gradientboosting\n",
    "clf_gb_ovhalf = GradientBoostingClassifier(n_estimators=100, min_samples_split=10, min_samples_leaf=10, max_depth=5) \n",
    "clf_gb_ovhalf.fit(X_train_ovhalf, y_train_ovhalf)\n",
    "y_pred_gb_ovhalf = clf_gb_ovhalf.predict(X_testd)"
   ]
  },
  {
   "cell_type": "markdown",
   "metadata": {},
   "source": [
    "### Over Sampling XGBoost different ratio"
   ]
  },
  {
   "cell_type": "code",
   "execution_count": 214,
   "metadata": {},
   "outputs": [],
   "source": [
    "clf_xgb_6 = XGBClassifier(max_depth=5, gamma=0.56, learning_rate=0.01)\n",
    "clf_xgb_6.fit(X_train_6, y_train_6)\n",
    "y_pred_xgb_6 = clf_xgb_6.predict(X_testd)"
   ]
  },
  {
   "cell_type": "code",
   "execution_count": 215,
   "metadata": {},
   "outputs": [],
   "source": [
    "clf_xgb_8 = XGBClassifier(max_depth=5, gamma=0.56, learning_rate=0.01)\n",
    "clf_xgb_8.fit(X_train_8, y_train_8)\n",
    "y_pred_xgb_8 = clf_xgb_8.predict(X_testd)"
   ]
  },
  {
   "cell_type": "code",
   "execution_count": 218,
   "metadata": {},
   "outputs": [],
   "source": [
    "clf_xgb_ov = XGBClassifier(max_depth=5, gamma=0.56, eta=0.01)\n",
    "clf_xgb_ov.fit(X_train_ov, y_train_ov)\n",
    "y_pred_xgb_ov = clf_xgb_ov.predict(X_testd)"
   ]
  },
  {
   "cell_type": "code",
   "execution_count": 268,
   "metadata": {},
   "outputs": [
    {
     "data": {
      "text/plain": [
       "0.7959869210628567"
      ]
     },
     "execution_count": 268,
     "metadata": {},
     "output_type": "execute_result"
    }
   ],
   "source": [
    "p_6 = precision_score(y_testd, y_pred_xgb_6, average='weighted')\n",
    "p_6"
   ]
  },
  {
   "cell_type": "code",
   "execution_count": 269,
   "metadata": {},
   "outputs": [
    {
     "data": {
      "text/plain": [
       "0.7950210105677651"
      ]
     },
     "execution_count": 269,
     "metadata": {},
     "output_type": "execute_result"
    }
   ],
   "source": [
    "p_8 = precision_score(y_testd, y_pred_xgb_8, average='weighted')\n",
    "p_8"
   ]
  },
  {
   "cell_type": "code",
   "execution_count": 270,
   "metadata": {},
   "outputs": [
    {
     "data": {
      "text/plain": [
       "0.79707019175077"
      ]
     },
     "execution_count": 270,
     "metadata": {},
     "output_type": "execute_result"
    }
   ],
   "source": [
    "p_ov = precision_score(y_testd, y_pred_xgb_ov, average='weighted')\n",
    "p_ov"
   ]
  },
  {
   "cell_type": "code",
   "execution_count": 322,
   "metadata": {},
   "outputs": [
    {
     "data": {
      "text/plain": [
       "0.7678297125301734"
      ]
     },
     "execution_count": 322,
     "metadata": {},
     "output_type": "execute_result"
    }
   ],
   "source": [
    "recall_score(y_testd, y_pred_xgb_ov, average='weighted')"
   ]
  },
  {
   "cell_type": "code",
   "execution_count": 271,
   "metadata": {},
   "outputs": [
    {
     "data": {
      "text/plain": [
       "0.7939093176081458"
      ]
     },
     "execution_count": 271,
     "metadata": {},
     "output_type": "execute_result"
    }
   ],
   "source": [
    "p = precision_score(y_testd, y_pred_xgb_ovhalf, average='weighted')\n",
    "p"
   ]
  },
  {
   "cell_type": "code",
   "execution_count": 286,
   "metadata": {
    "scrolled": true
   },
   "outputs": [
    {
     "data": {
      "text/plain": [
       "(0.78, 0.8)"
      ]
     },
     "execution_count": 286,
     "metadata": {},
     "output_type": "execute_result"
    },
    {
     "data": {
      "image/png": "[encoded data removed]",
      "text/plain": [
       "<Figure size 864x360 with 1 Axes>"
      ]
     },
     "metadata": {},
     "output_type": "display_data"
    }
   ],
   "source": [
    "precision = [0.7939, 0.7959, 0.7950,0.7971]\n",
    "x = ['2.5:1', '1.5:1','1.25:1','1:1']\n",
    "\n",
    "fig, ax = plt.subplots(figsize=(12,5))\n",
    "\n",
    "ax = sns.barplot(x=x, y=precision, palette='Set2')\n",
    "ax.set_ylim(0.78, 0.80)"
   ]
  },
  {
   "cell_type": "markdown",
   "metadata": {},
   "source": [
    "### Oversampling GB with Different Ratio"
   ]
  },
  {
   "cell_type": "code",
   "execution_count": 243,
   "metadata": {},
   "outputs": [],
   "source": [
    "clf_gb_ov = GradientBoostingClassifier(n_estimators=250, min_samples_split=10, min_samples_leaf=10, max_depth=5) \n",
    "clf_gb_ov.fit(X_train_ov, y_train_ov)\n",
    "y_pred_gb_ov = clf_gb_ov.predict(X_testd)"
   ]
  },
  {
   "cell_type": "code",
   "execution_count": 365,
   "metadata": {},
   "outputs": [
    {
     "data": {
      "text/plain": [
       "0.8027001680320804"
      ]
     },
     "execution_count": 365,
     "metadata": {},
     "output_type": "execute_result"
    }
   ],
   "source": [
    "p_ov_gb = precision_score(y_testd, y_pred_gb_ov, average='weighted')\n",
    "p_ov_gb"
   ]
  },
  {
   "cell_type": "code",
   "execution_count": 366,
   "metadata": {},
   "outputs": [
    {
     "data": {
      "text/plain": [
       "array([[10466,   534],\n",
       "       [ 1845,   826]])"
      ]
     },
     "execution_count": 366,
     "metadata": {},
     "output_type": "execute_result"
    }
   ],
   "source": [
    "confusion_matrix(y_testd, y_pred_gb_ov, labels=[0,1])"
   ]
  },
  {
   "cell_type": "code",
   "execution_count": 341,
   "metadata": {},
   "outputs": [
    {
     "data": {
      "text/plain": [
       "0.8259820057055081"
      ]
     },
     "execution_count": 341,
     "metadata": {},
     "output_type": "execute_result"
    }
   ],
   "source": [
    "recall_score(y_testd, y_pred_gb_ov, average='weighted')"
   ]
  },
  {
   "cell_type": "code",
   "execution_count": 364,
   "metadata": {},
   "outputs": [
    {
     "name": "stdout",
     "output_type": "stream",
     "text": [
      "                         pre       rec       spe        f1       geo       iba       sup\n",
      "\n",
      "          ignored       0.85      0.95      0.31      0.90      0.54      0.31     11000\n",
      "read+acknowledged       0.61      0.31      0.95      0.41      0.54      0.28      2671\n",
      "\n",
      "      avg / total       0.80      0.83      0.43      0.80      0.54      0.31     13671\n",
      "\n"
     ]
    }
   ],
   "source": [
    "print(classification_report_imbalanced(y_testd, y_pred_gb_ov, target_names=target_names))"
   ]
  },
  {
   "cell_type": "code",
   "execution_count": 244,
   "metadata": {},
   "outputs": [],
   "source": [
    "clf_gb_8 = GradientBoostingClassifier(n_estimators=250, min_samples_split=10, min_samples_leaf=10, max_depth=5)\n",
    "clf_gb_8.fit(X_train_8, y_train_8)\n",
    "y_pred_gb_8 = clf_gb_8.predict(X_testd)"
   ]
  },
  {
   "cell_type": "code",
   "execution_count": 274,
   "metadata": {},
   "outputs": [
    {
     "data": {
      "text/plain": [
       "0.8059638823072393"
      ]
     },
     "execution_count": 274,
     "metadata": {},
     "output_type": "execute_result"
    }
   ],
   "source": [
    "p_8_gb = precision_score(y_testd, y_pred_gb_8, average='weighted')\n",
    "p_8_gb"
   ]
  },
  {
   "cell_type": "code",
   "execution_count": 340,
   "metadata": {},
   "outputs": [
    {
     "data": {
      "text/plain": [
       "0.8283958744788238"
      ]
     },
     "execution_count": 340,
     "metadata": {},
     "output_type": "execute_result"
    }
   ],
   "source": [
    "recall_score(y_testd, y_pred_gb_8, average='weighted')"
   ]
  },
  {
   "cell_type": "code",
   "execution_count": 245,
   "metadata": {},
   "outputs": [],
   "source": [
    "clf_gb_6 = GradientBoostingClassifier(n_estimators=250, min_samples_split=10, min_samples_leaf=10, max_depth=5)\n",
    "clf_gb_6.fit(X_train_6, y_train_6)\n",
    "y_pred_gb_6 = clf_gb_6.predict(X_testd)"
   ]
  },
  {
   "cell_type": "code",
   "execution_count": 275,
   "metadata": {},
   "outputs": [
    {
     "data": {
      "text/plain": [
       "0.8050343900778183"
      ]
     },
     "execution_count": 275,
     "metadata": {},
     "output_type": "execute_result"
    }
   ],
   "source": [
    "p_6_gb = precision_score(y_testd, y_pred_gb_6, average='weighted')\n",
    "p_6_gb"
   ]
  },
  {
   "cell_type": "code",
   "execution_count": 248,
   "metadata": {},
   "outputs": [],
   "source": [
    "clf_gb_ovhalf = GradientBoostingClassifier(n_estimators=200, min_samples_split=10, min_samples_leaf=15, max_depth=4)\n",
    "clf_gb_ovhalf.fit(X_train_ovhalf, y_train_ovhalf)\n",
    "y_pred_gb_ovhalf = clf_gb_ovhalf.predict(X_testd)\n",
    "\n"
   ]
  },
  {
   "cell_type": "code",
   "execution_count": 276,
   "metadata": {},
   "outputs": [
    {
     "data": {
      "text/plain": [
       "0.805535600902291"
      ]
     },
     "execution_count": 276,
     "metadata": {},
     "output_type": "execute_result"
    }
   ],
   "source": [
    "p_ovhalf_gb = precision_score(y_testd, y_pred_gb_ovhalf, average='weighted')\n",
    "p_ovhalf_gb"
   ]
  },
  {
   "cell_type": "code",
   "execution_count": 306,
   "metadata": {},
   "outputs": [],
   "source": [
    "df = pd.DataFrame({'prevision':[0.80, 0.80, 0.78, 0.75, 0.74, 0.73], \n",
    "                  'sampling':['oversampling','oversampling','oversampling','undersampling','undersampling','undersampling'],\n",
    "                  'classifier':['XGBoost', 'GradientBoosting','RandomForest','XGBoost', 'GradientBoosting','RandomForest']})"
   ]
  },
  {
   "cell_type": "code",
   "execution_count": 307,
   "metadata": {},
   "outputs": [
    {
     "data": {
      "text/html": [
       "<div>\n",
       "<style scoped>\n",
       "    .dataframe tbody tr th:only-of-type {\n",
       "        vertical-align: middle;\n",
       "    }\n",
       "\n",
       "    .dataframe tbody tr th {\n",
       "        vertical-align: top;\n",
       "    }\n",
       "\n",
       "    .dataframe thead th {\n",
       "        text-align: right;\n",
       "    }\n",
       "</style>\n",
       "<table border=\"1\" class=\"dataframe\">\n",
       "  <thead>\n",
       "    <tr style=\"text-align: right;\">\n",
       "      <th></th>\n",
       "      <th>prevision</th>\n",
       "      <th>sampling</th>\n",
       "      <th>classifier</th>\n",
       "    </tr>\n",
       "  </thead>\n",
       "  <tbody>\n",
       "    <tr>\n",
       "      <th>0</th>\n",
       "      <td>0.80</td>\n",
       "      <td>oversampling</td>\n",
       "      <td>XGBoost</td>\n",
       "    </tr>\n",
       "    <tr>\n",
       "      <th>1</th>\n",
       "      <td>0.80</td>\n",
       "      <td>oversampling</td>\n",
       "      <td>GradientBoosting</td>\n",
       "    </tr>\n",
       "    <tr>\n",
       "      <th>2</th>\n",
       "      <td>0.78</td>\n",
       "      <td>oversampling</td>\n",
       "      <td>RandomForest</td>\n",
       "    </tr>\n",
       "    <tr>\n",
       "      <th>3</th>\n",
       "      <td>0.75</td>\n",
       "      <td>undersampling</td>\n",
       "      <td>XGBoost</td>\n",
       "    </tr>\n",
       "    <tr>\n",
       "      <th>4</th>\n",
       "      <td>0.74</td>\n",
       "      <td>undersampling</td>\n",
       "      <td>GradientBoosting</td>\n",
       "    </tr>\n",
       "    <tr>\n",
       "      <th>5</th>\n",
       "      <td>0.73</td>\n",
       "      <td>undersampling</td>\n",
       "      <td>RandomForest</td>\n",
       "    </tr>\n",
       "  </tbody>\n",
       "</table>\n",
       "</div>"
      ],
      "text/plain": [
       "   prevision       sampling        classifier\n",
       "0       0.80   oversampling           XGBoost\n",
       "1       0.80   oversampling  GradientBoosting\n",
       "2       0.78   oversampling      RandomForest\n",
       "3       0.75  undersampling           XGBoost\n",
       "4       0.74  undersampling  GradientBoosting\n",
       "5       0.73  undersampling      RandomForest"
      ]
     },
     "execution_count": 307,
     "metadata": {},
     "output_type": "execute_result"
    }
   ],
   "source": [
    "df"
   ]
  },
  {
   "cell_type": "code",
   "execution_count": 321,
   "metadata": {},
   "outputs": [
    {
     "data": {
      "text/plain": [
       "Text(0.5,1,'Model Performance on Test Data')"
      ]
     },
     "execution_count": 321,
     "metadata": {},
     "output_type": "execute_result"
    },
    {
     "data": {
      "image/png": "[encoded data removed]",
      "text/plain": [
       "<Figure size 864x360 with 1 Axes>"
      ]
     },
     "metadata": {},
     "output_type": "display_data"
    }
   ],
   "source": [
    "# precision_ov = [0.80, 0.80, 0.78]\n",
    "# precision_un = [0.75, 0.74, 0.73]\n",
    "# x = ['XGBoost', 'GradientBoosting','RandomForest']\n",
    "# hue = ['oversampling','undersampling']\n",
    "\n",
    "fig, ax = plt.subplots(figsize=(12,5))\n",
    "\n",
    "ax = sns.barplot(x=df['classifier'].values, y=df['prevision'].values, hue=df['sampling'].values)\n",
    "ax.set_ylim(0.7, 0.83)\n",
    "ax.set_xlabel('Classifier', fontsize=13)\n",
    "ax.set_ylabel('Precision', fontsize=13)\n",
    "ax.set_title('Model Performance on Test Data')"
   ]
  },
  {
   "cell_type": "markdown",
   "metadata": {},
   "source": [
    "### Plot Roc Curves"
   ]
  },
  {
   "cell_type": "code",
   "execution_count": 111,
   "metadata": {},
   "outputs": [],
   "source": [
    "import sklearn.metrics as metrics"
   ]
  },
  {
   "cell_type": "code",
   "execution_count": 249,
   "metadata": {},
   "outputs": [
    {
     "data": {
      "image/png": "[encoded data removed]",
      "text/plain": [
       "<Figure size 432x288 with 1 Axes>"
      ]
     },
     "metadata": {},
     "output_type": "display_data"
    }
   ],
   "source": [
    "plt.figure()\n",
    "\n",
    "# Add the models to the list that you want to view on the ROC plot\n",
    "models = [\n",
    "{\n",
    "    'label': 'Gradient Boosting 1.5:1',\n",
    "    'model': clf_gb_6,\n",
    "},\n",
    "{\n",
    "    'label': 'Gradient Boosting 1.25:1',\n",
    "    'model': clf_gb_8,\n",
    "},\n",
    "{\n",
    "    'label': 'Gradient Boosting 2.5:1',\n",
    "    'model': clf_gb_ovhalf,\n",
    "    \n",
    "},\n",
    "{\n",
    "    'label': 'Gradient Boosting 1:1',\n",
    "    'model': clf_gb_ov,\n",
    "    \n",
    "}\n",
    "\n",
    "]\n",
    "\n",
    "# Below for loop iterates through your models list\n",
    "for m in models:\n",
    "    \n",
    "# Compute False postive rate, and True positive rate\n",
    "    fpr, tpr, thresholds = metrics.roc_curve(y_testd, m['model'].predict_proba(X_testd)[:,1])\n",
    "# Calculate Area under the curve to display on the plot\n",
    "    auc = metrics.roc_auc_score(y_testd, m['model'].predict(X_testd))\n",
    "# Now, plot the computed values\n",
    "    plt.plot(fpr, tpr, label='%s ROC (area = %0.2f)' % (m['label'], auc))\n",
    "# Custom settings for the plot \n",
    "plt.plot([0, 1], [0, 1],'r--')\n",
    "plt.xlim([0.0, 1.0])\n",
    "plt.ylim([0.0, 1.05])\n",
    "plt.xlabel('1-Specificity(False Positive Rate)')\n",
    "plt.ylabel('Sensitivity(True Positive Rate)')\n",
    "plt.title('Receiver Operating Characteristic, Over-Sampling')\n",
    "plt.legend(loc=\"lower right\")\n",
    "plt.show()   # Display"
   ]
  },
  {
   "cell_type": "code",
   "execution_count": 200,
   "metadata": {
    "scrolled": true
   },
   "outputs": [
    {
     "data": {
      "image/png": "[encoded data removed]",
      "text/plain": [
       "<Figure size 432x288 with 1 Axes>"
      ]
     },
     "metadata": {},
     "output_type": "display_data"
    }
   ],
   "source": [
    "plt.figure()\n",
    "\n",
    "# Add the models to the list that you want to view on the ROC plot\n",
    "models = [\n",
    "{\n",
    "    'label': 'Random Forest',\n",
    "    'model': clf_rf_und1,\n",
    "},\n",
    "{\n",
    "    'label': 'Gradient Boosting',\n",
    "    'model': clf_gb_und1,\n",
    "},\n",
    "{\n",
    "    'label': 'XGBoost',\n",
    "    'model': clf_xgb_und,\n",
    "    \n",
    "}\n",
    "\n",
    "]\n",
    "\n",
    "# Below for loop iterates through your models list\n",
    "for m in models:\n",
    "    \n",
    "# Compute False postive rate, and True positive rate\n",
    "    fpr, tpr, thresholds = metrics.roc_curve(y_testd, m['model'].predict_proba(X_testd)[:,1])\n",
    "# Calculate Area under the curve to display on the plot\n",
    "    auc = metrics.roc_auc_score(y_testd, m['model'].predict(X_testd))\n",
    "# Now, plot the computed values\n",
    "    plt.plot(fpr, tpr, label='%s ROC (area = %0.2f)' % (m['label'], auc))\n",
    "# Custom settings for the plot \n",
    "plt.plot([0, 1], [0, 1],'r--')\n",
    "plt.xlim([0.0, 1.0])\n",
    "plt.ylim([0.0, 1.05])\n",
    "plt.xlabel('1-Specificity(False Positive Rate)')\n",
    "plt.ylabel('Sensitivity(True Positive Rate)')\n",
    "plt.title('Receiver Operating Characteristic, Under-Sampling')\n",
    "plt.legend(loc=\"lower right\")\n",
    "plt.show()   # Display"
   ]
  },
  {
   "cell_type": "code",
   "execution_count": 209,
   "metadata": {
    "scrolled": true
   },
   "outputs": [
    {
     "data": {
      "image/png": "[encoded data removed]",
      "text/plain": [
       "<Figure size 432x288 with 1 Axes>"
      ]
     },
     "metadata": {},
     "output_type": "display_data"
    }
   ],
   "source": [
    "plt.figure()\n",
    "\n",
    "# Add the models to the list that you want to view on the ROC plot\n",
    "models = [\n",
    "{\n",
    "    'label': 'Random Forest',\n",
    "    'model': clf_rf_ovhalf,\n",
    "},\n",
    "{\n",
    "    'label': 'Gradient Boosting',\n",
    "    'model': clf_gb_ovhalf,\n",
    "},\n",
    "{\n",
    "    'label': 'XGBoost',\n",
    "    'model': clf_xgb_ovhalf,\n",
    "    \n",
    "}\n",
    "\n",
    "]\n",
    "\n",
    "# Below for loop iterates through your models list\n",
    "for m in models:\n",
    "    \n",
    "# Compute False postive rate, and True positive rate\n",
    "    fpr, tpr, thresholds = metrics.roc_curve(y_testd, m['model'].predict_proba(X_testd)[:,1])\n",
    "# Calculate Area under the curve to display on the plot\n",
    "    auc = metrics.roc_auc_score(y_testd, m['model'].predict(X_testd))\n",
    "# Now, plot the computed values\n",
    "    plt.plot(fpr, tpr, label='%s ROC (area = %0.2f)' % (m['label'], auc))\n",
    "# Custom settings for the plot \n",
    "plt.plot([0, 1], [0, 1],'r--')\n",
    "plt.xlim([0.0, 1.0])\n",
    "plt.ylim([0.0, 1.05])\n",
    "plt.xlabel('1-Specificity(False Positive Rate)')\n",
    "plt.ylabel('Sensitivity(True Positive Rate)')\n",
    "plt.title('Receiver Operating Characteristic, Over-Sampling')\n",
    "plt.legend(loc=\"lower right\")\n",
    "plt.show()   # Display"
   ]
  },
  {
   "cell_type": "code",
   "execution_count": 219,
   "metadata": {},
   "outputs": [
    {
     "data": {
      "image/png": "[encoded data removed]",
      "text/plain": [
       "<Figure size 432x288 with 1 Axes>"
      ]
     },
     "metadata": {},
     "output_type": "display_data"
    }
   ],
   "source": [
    "plt.figure()\n",
    "\n",
    "# Add the models to the list that you want to view on the ROC plot\n",
    "models = [\n",
    "{\n",
    "    'label': 'XGBoost 1.5:1',\n",
    "    'model': clf_xgb_6,\n",
    "},\n",
    "{\n",
    "    'label': 'XGBoost 1.25:1',\n",
    "    'model': clf_xgb_8,\n",
    "},\n",
    "{\n",
    "    'label': 'XGBoost 2.5:1',\n",
    "    'model': clf_xgb_ovhalf,\n",
    "    \n",
    "},\n",
    "{\n",
    "    'label': 'XGBoost 1:1',\n",
    "    'model': clf_xgb_ov,\n",
    "    \n",
    "}\n",
    "\n",
    "]\n",
    "\n",
    "# Below for loop iterates through your models list\n",
    "for m in models:\n",
    "    \n",
    "# Compute False postive rate, and True positive rate\n",
    "    fpr, tpr, thresholds = metrics.roc_curve(y_testd, m['model'].predict_proba(X_testd)[:,1])\n",
    "# Calculate Area under the curve to display on the plot\n",
    "    auc = metrics.roc_auc_score(y_testd, m['model'].predict(X_testd))\n",
    "# Now, plot the computed values\n",
    "    plt.plot(fpr, tpr, label='%s ROC (area = %0.2f)' % (m['label'], auc))\n",
    "# Custom settings for the plot \n",
    "plt.plot([0, 1], [0, 1],'r--')\n",
    "plt.xlim([0.0, 1.0])\n",
    "plt.ylim([0.0, 1.05])\n",
    "plt.xlabel('1-Specificity(False Positive Rate)')\n",
    "plt.ylabel('Sensitivity(True Positive Rate)')\n",
    "plt.title('Receiver Operating Characteristic, Over-Sampling')\n",
    "plt.legend(loc=\"lower right\")\n",
    "plt.show()   # Display"
   ]
  },
  {
   "cell_type": "markdown",
   "metadata": {},
   "source": [
    "### XGBoost with Different Ratios of Undersampling"
   ]
  },
  {
   "cell_type": "code",
   "execution_count": 116,
   "metadata": {},
   "outputs": [],
   "source": [
    "# undersampling with binary class and removed feature 1:1\n",
    "clf_xgb_und1 = XGBClassifier(max_depth=4, gamma=0.56, learning_rate=0.01)\n",
    "clf_xgb_und1.fit(X_train_und1, y_train_und1)\n",
    "y_pred_xgb_und1 = clf_xgb_und1.predict(X_testd)"
   ]
  },
  {
   "cell_type": "code",
   "execution_count": 117,
   "metadata": {},
   "outputs": [],
   "source": [
    "# undersampling with binary class and removed feature 2:1\n",
    "clf_xgb_und2 = XGBClassifier(max_depth=4, gamma=0.56, learning_rate=0.01)\n",
    "clf_xgb_und2.fit(X_train_und2, y_train_und2)\n",
    "y_pred_xgb_und2 = clf_xgb_und2.predict(X_testd)"
   ]
  },
  {
   "cell_type": "code",
   "execution_count": 118,
   "metadata": {},
   "outputs": [],
   "source": [
    "# undersampling with binary class and removed feature 3:1\n",
    "clf_xgb_und3 = XGBClassifier(max_depth=4, gamma=0.56, learning_rate=0.01)\n",
    "clf_xgb_und3.fit(X_train_und3, y_train_und3)\n",
    "y_pred_xgb_und3 = clf_xgb_und3.predict(X_testd)"
   ]
  },
  {
   "cell_type": "code",
   "execution_count": 160,
   "metadata": {},
   "outputs": [
    {
     "data": {
      "image/png": "[encoded data removed]",
      "text/plain": [
       "<Figure size 432x288 with 1 Axes>"
      ]
     },
     "metadata": {},
     "output_type": "display_data"
    }
   ],
   "source": [
    "plt.figure()\n",
    "\n",
    "# Add the models to the list that you want to view on the ROC plot\n",
    "models = [\n",
    "{\n",
    "    'label': 'XGBoost 1:1',\n",
    "    'model': clf_xgb_und1,\n",
    "},\n",
    "{\n",
    "    'label': 'XGBoost 2:1',\n",
    "    'model': clf_xgb_und2,\n",
    "},\n",
    "{\n",
    "    'label': 'XGBoost 2.5:1',\n",
    "    'model': clf_xgb_und,\n",
    "    \n",
    "},\n",
    "{\n",
    "    'label': 'XGBoost 3:1',\n",
    "    'model': clf_xgb_und3,\n",
    "    \n",
    "}\n",
    "]\n",
    "\n",
    "# Below for loop iterates through your models list\n",
    "for m in models:\n",
    "    \n",
    "# Compute False postive rate, and True positive rate\n",
    "    fpr, tpr, thresholds = metrics.roc_curve(y_testd, m['model'].predict_proba(X_testd)[:,1])\n",
    "# Calculate Area under the curve to display on the plot\n",
    "    auc = metrics.roc_auc_score(y_testd, m['model'].predict(X_testd))\n",
    "# Now, plot the computed values\n",
    "    plt.plot(fpr, tpr, label='%s ROC (area = %0.2f)' % (m['label'], auc))\n",
    "# Custom settings for the plot \n",
    "plt.plot([0, 1], [0, 1],'r--')\n",
    "plt.xlim([0.0, 1.0])\n",
    "plt.ylim([0.0, 1.05])\n",
    "plt.xlabel('1-Specificity(False Positive Rate)')\n",
    "plt.ylabel('Sensitivity(True Positive Rate)')\n",
    "plt.title('Receiver Operating Characteristic')\n",
    "plt.legend(loc=\"lower right\")\n",
    "plt.show()   # Display"
   ]
  },
  {
   "cell_type": "markdown",
   "metadata": {},
   "source": [
    "### Profit Curves"
   ]
  },
  {
   "cell_type": "code",
   "execution_count": 354,
   "metadata": {},
   "outputs": [],
   "source": [
    "def cost_benefit(tp=2,fp=-3,fn=0,tn=0):\n",
    "    cost_benefit_matrix = np.array([[tp, fp], [fn,   tn]])\n",
    "    return cost_benefit_matrix\n",
    "\n",
    "def standard_confusion_matrix(y_true, y_pred):\n",
    "    \"\"\"Make confusion matrix with format:\n",
    "                  -----------\n",
    "                  | TP | FP |\n",
    "                  -----------\n",
    "                  | FN | TN |\n",
    "                  -----------\n",
    "  \n",
    "    \"\"\"\n",
    "    [[tn, fp], [fn, tp]] = confusion_matrix(y_true, y_pred)\n",
    "    return np.array([[tp, fp], [fn, tn]])\n",
    "\n",
    "\n",
    "def profit_curve(cost_benefit, predicted_probs, labels):\n",
    "\n",
    "    n_obs = float(len(labels))\n",
    "    # Make sure that 1 is going to be one of our thresholds\n",
    "#     maybe_one = [] if 1 in predicted_probs else [1] \n",
    "#     thresholds = maybe_one + sorted(predicted_probs, reverse=True)\n",
    "\n",
    "    thresholds = list(np.arange(0.05,1.05,0.05))\n",
    "    profits = []\n",
    "    for threshold in thresholds:\n",
    "        y_predict = predicted_probs >= threshold\n",
    "        confusion_matrix = standard_confusion_matrix(labels, y_predict)\n",
    "        threshold_profit = np.sum(confusion_matrix * cost_benefit) / n_obs\n",
    "        profits.append(threshold_profit)\n",
    "        \n",
    "\n",
    "    return np.array(profits), np.array(thresholds)\n",
    "\n",
    "def profits_function(model, y_true, y_pred_probas, name_str):\n",
    "    \n",
    "    # create cost benefit matrix\n",
    "    cbm = cost_benefit()\n",
    "\n",
    "    # create profit curve\n",
    "   \n",
    "    profits, thresholds = profit_curve(cbm, y_pred_probas, y_true)\n",
    "\n",
    "        # for profit, threshold in zip(*profits_curve_results)\n",
    "    plt.plot(thresholds, profits, label = str(model.__class__.__name__) )\n",
    "    \n",
    "    plt.title(\"Profit Curves\")\n",
    "    plt.xlabel(\"Thresholds\")\n",
    "    plt.ylabel(\"Profit\")\n",
    "    plt.legend(loc='lower right')"
   ]
  },
  {
   "cell_type": "code",
   "execution_count": 355,
   "metadata": {},
   "outputs": [],
   "source": [
    "#For Each Model\n",
    "#predict_probas_lr = clf_lr_und.predict_proba(X_test1)[:,1] #Get predictions adhering to churn class\n",
    "predict_probas_rf = clf_rf_ov.predict_proba(X_testd)[:,1] #Get predictions adhering to churn class\n",
    "predict_probas_gb = clf_gb_ov.predict_proba(X_testd)[:,1] #Get predictions adhering to churn class\n",
    "predict_probas_xgb = clf_xgb_ov.predict_proba(X_testd)[:,1] #Get predictions adhering to churn class\n"
   ]
  },
  {
   "cell_type": "code",
   "execution_count": 356,
   "metadata": {},
   "outputs": [
    {
     "data": {
      "image/png": "[encoded data removed]",
      "text/plain": [
       "<Figure size 432x288 with 1 Axes>"
      ]
     },
     "metadata": {},
     "output_type": "display_data"
    }
   ],
   "source": [
    "#from src.profit import profits_function\n",
    "\n",
    "# The following should be done in the same code cell if you have multiple models\n",
    "#profits_function(clf_lr_un, y_test1, predict_probas_lr, 'logistic regression')\n",
    "profits_function(clf_rf_ov, y_testd, predict_probas_rf,'')\n",
    "profits_function(clf_gb_ov, y_testd, predict_probas_gb,'')\n",
    "profits_function(clf_xgb_ov, y_testd, predict_probas_xgb,'')"
   ]
  },
  {
   "cell_type": "code",
   "execution_count": 357,
   "metadata": {},
   "outputs": [],
   "source": [
    "max_profit, max_threshold = find_max_threshold(y_testd, predict_probas_gb)"
   ]
  },
  {
   "cell_type": "code",
   "execution_count": 358,
   "metadata": {},
   "outputs": [
    {
     "data": {
      "text/plain": [
       "0.03218491697754371"
      ]
     },
     "execution_count": 358,
     "metadata": {},
     "output_type": "execute_result"
    }
   ],
   "source": [
    "max_profit"
   ]
  },
  {
   "cell_type": "code",
   "execution_count": 353,
   "metadata": {},
   "outputs": [
    {
     "data": {
      "text/plain": [
       "0.4"
      ]
     },
     "execution_count": 353,
     "metadata": {},
     "output_type": "execute_result"
    }
   ],
   "source": [
    "max_threshold"
   ]
  },
  {
   "cell_type": "code",
   "execution_count": null,
   "metadata": {},
   "outputs": [],
   "source": []
  },
  {
   "cell_type": "code",
   "execution_count": 324,
   "metadata": {},
   "outputs": [],
   "source": [
    "predict_probas_xgb_6 = clf_xgb_6.predict_proba(X_testd)[:,1] #Get predictions adhering to churn class\n",
    "predict_probas_xgb_8 = clf_xgb_8.predict_proba(X_testd)[:,1] #Get predictions adhering to churn class\n",
    "predict_probas_xgb_ov = clf_xgb_ov.predict_proba(X_testd)[:,1] #Get predictions adhering to churn class\n",
    "predict_probas_xgb_ovhalf = clf_xgb_ovhalf.predict_proba(X_testd)[:,1] #Get predictions adhering to churn class\n"
   ]
  },
  {
   "cell_type": "code",
   "execution_count": 325,
   "metadata": {},
   "outputs": [
    {
     "data": {
      "image/png": "[encoded data removed]",
      "text/plain": [
       "<Figure size 432x288 with 1 Axes>"
      ]
     },
     "metadata": {},
     "output_type": "display_data"
    }
   ],
   "source": [
    "profits_function(clf_xgb_6, y_testd, predict_probas_xgb_6, 'xgboost 1.5:1')\n",
    "profits_function(clf_xgb_8, y_testd, predict_probas_xgb_8, 'xgboost 1.25:1')\n",
    "profits_function(clf_xgb_ov, y_testd, predict_probas_xgb_ov, 'xgboost 1:1')\n",
    "profits_function(clf_xgb_ovhalf, y_testd, predict_probas_xgb_ovhalf, 'xgboost 2.5:1')\n"
   ]
  },
  {
   "cell_type": "code",
   "execution_count": 326,
   "metadata": {},
   "outputs": [],
   "source": [
    "\n",
    "def find_best_threshold(model_profits):\n",
    "\n",
    "    max_model = None\n",
    "    max_threshold = None\n",
    "    max_profit = None\n",
    "    for model, profits, thresholds in model_profits:\n",
    "        max_index = np.argmax(profits)\n",
    "        if not max_model or profits[max_index] > max_profit:\n",
    "            max_model = model\n",
    "            max_threshold = thresholds[max_index]\n",
    "            max_profit = profits[max_index]\n",
    "    return max_model, max_threshold, max_profit\n",
    "\n",
    "\n",
    "def find_max_threshold(y_true, y_pred_probas):\n",
    "    cbm = cost_benefit()\n",
    "    profits, thresholds = profit_curve(cbm, y_pred_probas, y_true)\n",
    "\n",
    "    max_index = np.argmax(profits)\n",
    "    \n",
    "    max_threshold = thresholds[max_index]\n",
    "    max_profit = profits[max_index]\n",
    "    \n",
    "    return max_profit, max_threshold"
   ]
  },
  {
   "cell_type": "code",
   "execution_count": 327,
   "metadata": {},
   "outputs": [],
   "source": [
    "max_profit, max_threshold = find_max_threshold(y_testd, predict_probas_xgb_ovhalf)"
   ]
  },
  {
   "cell_type": "code",
   "execution_count": 328,
   "metadata": {},
   "outputs": [
    {
     "data": {
      "text/plain": [
       "0.1715309779825909"
      ]
     },
     "execution_count": 328,
     "metadata": {},
     "output_type": "execute_result"
    }
   ],
   "source": [
    "max_profit"
   ]
  },
  {
   "cell_type": "code",
   "execution_count": 329,
   "metadata": {},
   "outputs": [
    {
     "data": {
      "text/plain": [
       "0.45"
      ]
     },
     "execution_count": 329,
     "metadata": {},
     "output_type": "execute_result"
    }
   ],
   "source": [
    "max_threshold"
   ]
  },
  {
   "cell_type": "code",
   "execution_count": null,
   "metadata": {},
   "outputs": [],
   "source": []
  },
  {
   "cell_type": "code",
   "execution_count": null,
   "metadata": {},
   "outputs": [],
   "source": []
  },
  {
   "cell_type": "code",
   "execution_count": null,
   "metadata": {},
   "outputs": [],
   "source": []
  },
  {
   "cell_type": "code",
   "execution_count": null,
   "metadata": {},
   "outputs": [],
   "source": []
  },
  {
   "cell_type": "code",
   "execution_count": null,
   "metadata": {},
   "outputs": [],
   "source": []
  },
  {
   "cell_type": "code",
   "execution_count": null,
   "metadata": {},
   "outputs": [],
   "source": []
  },
  {
   "cell_type": "code",
   "execution_count": null,
   "metadata": {},
   "outputs": [],
   "source": []
  },
  {
   "cell_type": "code",
   "execution_count": null,
   "metadata": {},
   "outputs": [],
   "source": []
  },
  {
   "cell_type": "code",
   "execution_count": null,
   "metadata": {},
   "outputs": [],
   "source": []
  },
  {
   "cell_type": "code",
   "execution_count": null,
   "metadata": {},
   "outputs": [],
   "source": []
  },
  {
   "cell_type": "code",
   "execution_count": null,
   "metadata": {},
   "outputs": [],
   "source": []
  },
  {
   "cell_type": "code",
   "execution_count": null,
   "metadata": {},
   "outputs": [],
   "source": []
  }
 ],
 "metadata": {
  "kernelspec": {
   "display_name": "Python 3",
   "language": "python",
   "name": "python3"
  },
  "language_info": {
   "codemirror_mode": {
    "name": "ipython",
    "version": 3
   },
   "file_extension": ".py",
   "mimetype": "text/x-python",
   "name": "python",
   "nbconvert_exporter": "python",
   "pygments_lexer": "ipython3",
   "version": "3.6.8"
  }
 },
 "nbformat": 4,
 "nbformat_minor": 2
}
